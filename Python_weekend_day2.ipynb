{
  "nbformat": 4,
  "nbformat_minor": 0,
  "metadata": {
    "colab": {
      "provenance": []
    },
    "kernelspec": {
      "name": "python3",
      "display_name": "Python 3"
    },
    "language_info": {
      "name": "python"
    }
  },
  "cells": [
    {
      "cell_type": "code",
      "execution_count": 1,
      "metadata": {
        "colab": {
          "base_uri": "https://localhost:8080/"
        },
        "id": "Aek4uuZKOAEa",
        "outputId": "4304ea7d-94e3-42c6-9756-aa2758ab5586"
      },
      "outputs": [
        {
          "output_type": "stream",
          "name": "stdout",
          "text": [
            "Python\n"
          ]
        },
        {
          "output_type": "execute_result",
          "data": {
            "text/plain": [
              "str"
            ]
          },
          "metadata": {},
          "execution_count": 1
        }
      ],
      "source": [
        "### Data types\n",
        "course=\"Python\"\n",
        "print(course)\n",
        "type(course)"
      ]
    },
    {
      "cell_type": "code",
      "source": [
        "### Strings\n",
        "course[0]"
      ],
      "metadata": {
        "colab": {
          "base_uri": "https://localhost:8080/",
          "height": 36
        },
        "id": "cGel6X8RRaxL",
        "outputId": "25a0d6f9-698a-4adb-a9f9-5c0961668a97"
      },
      "execution_count": 2,
      "outputs": [
        {
          "output_type": "execute_result",
          "data": {
            "text/plain": [
              "'P'"
            ],
            "application/vnd.google.colaboratory.intrinsic+json": {
              "type": "string"
            }
          },
          "metadata": {},
          "execution_count": 2
        }
      ]
    },
    {
      "cell_type": "code",
      "source": [
        "course[1]"
      ],
      "metadata": {
        "colab": {
          "base_uri": "https://localhost:8080/",
          "height": 36
        },
        "id": "u4KUlnLpR32-",
        "outputId": "2e532f5f-15a0-4953-d9bd-5452f71187ea"
      },
      "execution_count": 3,
      "outputs": [
        {
          "output_type": "execute_result",
          "data": {
            "text/plain": [
              "'y'"
            ],
            "application/vnd.google.colaboratory.intrinsic+json": {
              "type": "string"
            }
          },
          "metadata": {},
          "execution_count": 3
        }
      ]
    },
    {
      "cell_type": "code",
      "source": [
        "str1=\"DeepSeek's hiring preferences target technical abilities rather than work experience, resulting in most new hires being either recent university graduates or developers whose AI careers are less established.[22][5] Likewise, the company recruits individuals without any computer science background to help its technology understand other topics and knowledge areas, including being able to generate poetry and perform well on the notoriously difficult\""
      ],
      "metadata": {
        "id": "byF7vEobSMHl"
      },
      "execution_count": 4,
      "outputs": []
    },
    {
      "cell_type": "code",
      "source": [
        "str1"
      ],
      "metadata": {
        "colab": {
          "base_uri": "https://localhost:8080/",
          "height": 89
        },
        "id": "emTsfWjbSzkO",
        "outputId": "73b9f68d-0f57-4d77-f9cc-728056005cf2"
      },
      "execution_count": 5,
      "outputs": [
        {
          "output_type": "execute_result",
          "data": {
            "text/plain": [
              "\"DeepSeek's hiring preferences target technical abilities rather than work experience, resulting in most new hires being either recent university graduates or developers whose AI careers are less established.[22][5] Likewise, the company recruits individuals without any computer science background to help its technology understand other topics and knowledge areas, including being able to generate poetry and perform well on the notoriously difficult\""
            ],
            "application/vnd.google.colaboratory.intrinsic+json": {
              "type": "string"
            }
          },
          "metadata": {},
          "execution_count": 5
        }
      ]
    },
    {
      "cell_type": "code",
      "source": [
        "type(str1)"
      ],
      "metadata": {
        "colab": {
          "base_uri": "https://localhost:8080/"
        },
        "id": "UOwFgP8qS1V2",
        "outputId": "847060ac-172f-4a1a-f93d-33c4d5ec76bb"
      },
      "execution_count": 6,
      "outputs": [
        {
          "output_type": "execute_result",
          "data": {
            "text/plain": [
              "str"
            ]
          },
          "metadata": {},
          "execution_count": 6
        }
      ]
    },
    {
      "cell_type": "code",
      "source": [
        "str1[7]"
      ],
      "metadata": {
        "colab": {
          "base_uri": "https://localhost:8080/",
          "height": 36
        },
        "id": "uTgN-JSsS3N6",
        "outputId": "67305b04-319f-4717-a603-16978b7d3e22"
      },
      "execution_count": 8,
      "outputs": [
        {
          "output_type": "execute_result",
          "data": {
            "text/plain": [
              "'k'"
            ],
            "application/vnd.google.colaboratory.intrinsic+json": {
              "type": "string"
            }
          },
          "metadata": {},
          "execution_count": 8
        }
      ]
    },
    {
      "cell_type": "code",
      "source": [
        "str2=\"\"\"High-Flyer/DeepSeek has built at least two computing clusters, Fire-Flyer (萤火一号) and Fire-Flyer 2 (萤火二号). Fire-Flyer began construction in 2019 and finished in 2020, at a cost of 200 million yuan. It contained 1100 GPUs interconnected at a rate of 200 Gbps. It was \"retired\" after 1.5 years in operation. Fire-Flyer 2 began construction in 2021 with a budget of 1 billion yuan.[16] It was reported that in 2022, Fire-Flyer 2 capacity had been utilized at over 96%, totaling 56.74 million GPU hours. Of those GPU hours, 27% was used to support scientific computing outside the company.[16]\n",
        "\n",
        "Fire-Flyer 2 consisted of co-designed software and hardware architecture. On the hardware side, there are more GPUs with 200 Gbps interconnects. The cluster is divided into two \"zones\", and the platform supports cross-zone tasks. The network topology was two fat trees, chosen for its high bisection bandwidth. On the software side, there are[26][16]\"\"\""
      ],
      "metadata": {
        "id": "lFc_PAyeS4tj"
      },
      "execution_count": 10,
      "outputs": []
    },
    {
      "cell_type": "code",
      "source": [
        "str2"
      ],
      "metadata": {
        "colab": {
          "base_uri": "https://localhost:8080/",
          "height": 179
        },
        "id": "E2HT4YXSUCpr",
        "outputId": "1110a473-e1eb-4712-ae84-7775de26eca6"
      },
      "execution_count": 12,
      "outputs": [
        {
          "output_type": "execute_result",
          "data": {
            "text/plain": [
              "'High-Flyer/DeepSeek has built at least two computing clusters, Fire-Flyer (萤火一号) and Fire-Flyer 2 (萤火二号). Fire-Flyer began construction in 2019 and finished in 2020, at a cost of 200 million yuan. It contained 1100 GPUs interconnected at a rate of 200 Gbps. It was \"retired\" after 1.5 years in operation. Fire-Flyer 2 began construction in 2021 with a budget of 1 billion yuan.[16] It was reported that in 2022, Fire-Flyer 2 capacity had been utilized at over 96%, totaling 56.74 million GPU hours. Of those GPU hours, 27% was used to support scientific computing outside the company.[16]\\n\\nFire-Flyer 2 consisted of co-designed software and hardware architecture. On the hardware side, there are more GPUs with 200 Gbps interconnects. The cluster is divided into two \"zones\", and the platform supports cross-zone tasks. The network topology was two fat trees, chosen for its high bisection bandwidth. On the software side, there are[26][16]'"
            ],
            "application/vnd.google.colaboratory.intrinsic+json": {
              "type": "string"
            }
          },
          "metadata": {},
          "execution_count": 12
        }
      ]
    },
    {
      "cell_type": "code",
      "source": [
        "### Indexing\n",
        "str2[0]"
      ],
      "metadata": {
        "colab": {
          "base_uri": "https://localhost:8080/",
          "height": 36
        },
        "id": "LV_EqPbgUgEL",
        "outputId": "a78b5117-dc5b-481c-8fb3-12ebdab4b125"
      },
      "execution_count": 13,
      "outputs": [
        {
          "output_type": "execute_result",
          "data": {
            "text/plain": [
              "'H'"
            ],
            "application/vnd.google.colaboratory.intrinsic+json": {
              "type": "string"
            }
          },
          "metadata": {},
          "execution_count": 13
        }
      ]
    },
    {
      "cell_type": "code",
      "source": [
        "str1[0]"
      ],
      "metadata": {
        "colab": {
          "base_uri": "https://localhost:8080/",
          "height": 36
        },
        "id": "5ZFaXge5Ukin",
        "outputId": "7d3772fd-912a-4c5a-9311-b18fc43d742b"
      },
      "execution_count": 14,
      "outputs": [
        {
          "output_type": "execute_result",
          "data": {
            "text/plain": [
              "'D'"
            ],
            "application/vnd.google.colaboratory.intrinsic+json": {
              "type": "string"
            }
          },
          "metadata": {},
          "execution_count": 14
        }
      ]
    },
    {
      "cell_type": "code",
      "source": [
        "course"
      ],
      "metadata": {
        "colab": {
          "base_uri": "https://localhost:8080/",
          "height": 36
        },
        "id": "ODaSzqyXUu6B",
        "outputId": "15ec6d29-38a0-4411-98a6-91b5d21c5f39"
      },
      "execution_count": 16,
      "outputs": [
        {
          "output_type": "execute_result",
          "data": {
            "text/plain": [
              "'Python'"
            ],
            "application/vnd.google.colaboratory.intrinsic+json": {
              "type": "string"
            }
          },
          "metadata": {},
          "execution_count": 16
        }
      ]
    },
    {
      "cell_type": "code",
      "source": [
        "course[0]"
      ],
      "metadata": {
        "colab": {
          "base_uri": "https://localhost:8080/",
          "height": 36
        },
        "id": "h31vV9hXUpMy",
        "outputId": "0d411dd2-04a3-4e6b-c84e-1cf33fde1947"
      },
      "execution_count": 15,
      "outputs": [
        {
          "output_type": "execute_result",
          "data": {
            "text/plain": [
              "'P'"
            ],
            "application/vnd.google.colaboratory.intrinsic+json": {
              "type": "string"
            }
          },
          "metadata": {},
          "execution_count": 15
        }
      ]
    },
    {
      "cell_type": "code",
      "source": [
        "course[2]"
      ],
      "metadata": {
        "colab": {
          "base_uri": "https://localhost:8080/",
          "height": 36
        },
        "id": "VQKktDQyUt_m",
        "outputId": "65af3b54-5e21-4593-fbbf-f9433d528331"
      },
      "execution_count": 17,
      "outputs": [
        {
          "output_type": "execute_result",
          "data": {
            "text/plain": [
              "'t'"
            ],
            "application/vnd.google.colaboratory.intrinsic+json": {
              "type": "string"
            }
          },
          "metadata": {},
          "execution_count": 17
        }
      ]
    },
    {
      "cell_type": "code",
      "source": [
        "course[6]"
      ],
      "metadata": {
        "colab": {
          "base_uri": "https://localhost:8080/",
          "height": 144
        },
        "id": "D4jVUgLTU0JR",
        "outputId": "3017a734-104c-4cc0-82d8-6bd2dd19178e"
      },
      "execution_count": 20,
      "outputs": [
        {
          "output_type": "error",
          "ename": "IndexError",
          "evalue": "string index out of range",
          "traceback": [
            "\u001b[0;31m---------------------------------------------------------------------------\u001b[0m",
            "\u001b[0;31mIndexError\u001b[0m                                Traceback (most recent call last)",
            "\u001b[0;32m/tmp/ipython-input-2749543918.py\u001b[0m in \u001b[0;36m<cell line: 0>\u001b[0;34m()\u001b[0m\n\u001b[0;32m----> 1\u001b[0;31m \u001b[0mcourse\u001b[0m\u001b[0;34m[\u001b[0m\u001b[0;36m6\u001b[0m\u001b[0;34m]\u001b[0m\u001b[0;34m\u001b[0m\u001b[0;34m\u001b[0m\u001b[0m\n\u001b[0m",
            "\u001b[0;31mIndexError\u001b[0m: string index out of range"
          ]
        }
      ]
    },
    {
      "cell_type": "code",
      "source": [
        "course[-1]"
      ],
      "metadata": {
        "colab": {
          "base_uri": "https://localhost:8080/",
          "height": 36
        },
        "id": "VW51XTpjU3JX",
        "outputId": "75344eb9-7138-4926-9cc4-e00d6f3892fd"
      },
      "execution_count": 21,
      "outputs": [
        {
          "output_type": "execute_result",
          "data": {
            "text/plain": [
              "'n'"
            ],
            "application/vnd.google.colaboratory.intrinsic+json": {
              "type": "string"
            }
          },
          "metadata": {},
          "execution_count": 21
        }
      ]
    },
    {
      "cell_type": "code",
      "source": [
        "course[-2]"
      ],
      "metadata": {
        "colab": {
          "base_uri": "https://localhost:8080/",
          "height": 36
        },
        "id": "XjLEktJeVnXf",
        "outputId": "869f87b6-36ac-48fa-8058-34dbf1197b9d"
      },
      "execution_count": 22,
      "outputs": [
        {
          "output_type": "execute_result",
          "data": {
            "text/plain": [
              "'o'"
            ],
            "application/vnd.google.colaboratory.intrinsic+json": {
              "type": "string"
            }
          },
          "metadata": {},
          "execution_count": 22
        }
      ]
    },
    {
      "cell_type": "code",
      "source": [
        "course[-0]"
      ],
      "metadata": {
        "colab": {
          "base_uri": "https://localhost:8080/",
          "height": 36
        },
        "id": "3YnmdWZfVpxn",
        "outputId": "43352993-4bf8-471a-e9d8-607137cb3fec"
      },
      "execution_count": 23,
      "outputs": [
        {
          "output_type": "execute_result",
          "data": {
            "text/plain": [
              "'P'"
            ],
            "application/vnd.google.colaboratory.intrinsic+json": {
              "type": "string"
            }
          },
          "metadata": {},
          "execution_count": 23
        }
      ]
    },
    {
      "cell_type": "code",
      "source": [
        "course[-7]"
      ],
      "metadata": {
        "colab": {
          "base_uri": "https://localhost:8080/",
          "height": 144
        },
        "id": "s24gndVwV2UE",
        "outputId": "137ee770-ac18-4481-f2aa-7047ef9baf1f"
      },
      "execution_count": 24,
      "outputs": [
        {
          "output_type": "error",
          "ename": "IndexError",
          "evalue": "string index out of range",
          "traceback": [
            "\u001b[0;31m---------------------------------------------------------------------------\u001b[0m",
            "\u001b[0;31mIndexError\u001b[0m                                Traceback (most recent call last)",
            "\u001b[0;32m/tmp/ipython-input-279981647.py\u001b[0m in \u001b[0;36m<cell line: 0>\u001b[0;34m()\u001b[0m\n\u001b[0;32m----> 1\u001b[0;31m \u001b[0mcourse\u001b[0m\u001b[0;34m[\u001b[0m\u001b[0;34m-\u001b[0m\u001b[0;36m7\u001b[0m\u001b[0;34m]\u001b[0m\u001b[0;34m\u001b[0m\u001b[0;34m\u001b[0m\u001b[0m\n\u001b[0m",
            "\u001b[0;31mIndexError\u001b[0m: string index out of range"
          ]
        }
      ]
    },
    {
      "cell_type": "code",
      "source": [
        "### slicing\n",
        "course[0:3]"
      ],
      "metadata": {
        "colab": {
          "base_uri": "https://localhost:8080/",
          "height": 36
        },
        "id": "029hrtOzV-Z7",
        "outputId": "924ea448-80e7-4d85-bbd4-fa7753019cca"
      },
      "execution_count": 25,
      "outputs": [
        {
          "output_type": "execute_result",
          "data": {
            "text/plain": [
              "'Pyt'"
            ],
            "application/vnd.google.colaboratory.intrinsic+json": {
              "type": "string"
            }
          },
          "metadata": {},
          "execution_count": 25
        }
      ]
    },
    {
      "cell_type": "code",
      "source": [
        "course[-1:-3]"
      ],
      "metadata": {
        "colab": {
          "base_uri": "https://localhost:8080/",
          "height": 36
        },
        "id": "g36CRa1tWJNV",
        "outputId": "7f54426a-e17a-400c-f276-d6780009e5dc"
      },
      "execution_count": 26,
      "outputs": [
        {
          "output_type": "execute_result",
          "data": {
            "text/plain": [
              "''"
            ],
            "application/vnd.google.colaboratory.intrinsic+json": {
              "type": "string"
            }
          },
          "metadata": {},
          "execution_count": 26
        }
      ]
    },
    {
      "cell_type": "code",
      "source": [
        "course[-3:-1]"
      ],
      "metadata": {
        "colab": {
          "base_uri": "https://localhost:8080/",
          "height": 36
        },
        "id": "gQg2eyFHWgiO",
        "outputId": "983ef12a-0eba-4159-a7cf-d85591182736"
      },
      "execution_count": 27,
      "outputs": [
        {
          "output_type": "execute_result",
          "data": {
            "text/plain": [
              "'ho'"
            ],
            "application/vnd.google.colaboratory.intrinsic+json": {
              "type": "string"
            }
          },
          "metadata": {},
          "execution_count": 27
        }
      ]
    },
    {
      "cell_type": "code",
      "source": [
        "st3=\"Hello Python\"\n",
        "st3[6:12]"
      ],
      "metadata": {
        "colab": {
          "base_uri": "https://localhost:8080/",
          "height": 36
        },
        "id": "y-munemaWkpM",
        "outputId": "7ee4f032-3cc0-4ee8-8980-c7a791797615"
      },
      "execution_count": 28,
      "outputs": [
        {
          "output_type": "execute_result",
          "data": {
            "text/plain": [
              "'Python'"
            ],
            "application/vnd.google.colaboratory.intrinsic+json": {
              "type": "string"
            }
          },
          "metadata": {},
          "execution_count": 28
        }
      ]
    },
    {
      "cell_type": "code",
      "source": [
        "st3[6:13]"
      ],
      "metadata": {
        "colab": {
          "base_uri": "https://localhost:8080/",
          "height": 36
        },
        "id": "UAsKJpU-W_qS",
        "outputId": "c7bd2808-8f66-4605-8828-26e741deb736"
      },
      "execution_count": 29,
      "outputs": [
        {
          "output_type": "execute_result",
          "data": {
            "text/plain": [
              "'Python'"
            ],
            "application/vnd.google.colaboratory.intrinsic+json": {
              "type": "string"
            }
          },
          "metadata": {},
          "execution_count": 29
        }
      ]
    },
    {
      "cell_type": "code",
      "source": [
        "st3[:3]"
      ],
      "metadata": {
        "colab": {
          "base_uri": "https://localhost:8080/",
          "height": 36
        },
        "id": "2iYscieyXHJq",
        "outputId": "e547c5ef-1cf8-4520-e4d3-2cb81668c04c"
      },
      "execution_count": 30,
      "outputs": [
        {
          "output_type": "execute_result",
          "data": {
            "text/plain": [
              "'Hel'"
            ],
            "application/vnd.google.colaboratory.intrinsic+json": {
              "type": "string"
            }
          },
          "metadata": {},
          "execution_count": 30
        }
      ]
    },
    {
      "cell_type": "code",
      "source": [
        "st3[3:]"
      ],
      "metadata": {
        "colab": {
          "base_uri": "https://localhost:8080/",
          "height": 36
        },
        "id": "DyDhInQSXROc",
        "outputId": "2b7aa2f6-f7f1-4cb2-e121-778318296fd3"
      },
      "execution_count": 31,
      "outputs": [
        {
          "output_type": "execute_result",
          "data": {
            "text/plain": [
              "'lo Python'"
            ],
            "application/vnd.google.colaboratory.intrinsic+json": {
              "type": "string"
            }
          },
          "metadata": {},
          "execution_count": 31
        }
      ]
    },
    {
      "cell_type": "code",
      "source": [
        "st3[-2:]"
      ],
      "metadata": {
        "colab": {
          "base_uri": "https://localhost:8080/",
          "height": 36
        },
        "id": "9Hk1giTAXfsu",
        "outputId": "48bc5d47-78a5-441b-9704-6520b679b35b"
      },
      "execution_count": 32,
      "outputs": [
        {
          "output_type": "execute_result",
          "data": {
            "text/plain": [
              "'on'"
            ],
            "application/vnd.google.colaboratory.intrinsic+json": {
              "type": "string"
            }
          },
          "metadata": {},
          "execution_count": 32
        }
      ]
    },
    {
      "cell_type": "code",
      "source": [
        "st3[:-2]"
      ],
      "metadata": {
        "colab": {
          "base_uri": "https://localhost:8080/",
          "height": 36
        },
        "id": "LzklKFHyXxex",
        "outputId": "f37872ce-94b0-4a6b-aede-39f1c76840ba"
      },
      "execution_count": 33,
      "outputs": [
        {
          "output_type": "execute_result",
          "data": {
            "text/plain": [
              "'Hello Pyth'"
            ],
            "application/vnd.google.colaboratory.intrinsic+json": {
              "type": "string"
            }
          },
          "metadata": {},
          "execution_count": 33
        }
      ]
    },
    {
      "cell_type": "code",
      "source": [
        "st3[-12:-8]"
      ],
      "metadata": {
        "colab": {
          "base_uri": "https://localhost:8080/",
          "height": 36
        },
        "id": "SFWEvmdxX5Lh",
        "outputId": "072a9021-2286-42ac-a9c1-547cc3f6e411"
      },
      "execution_count": 35,
      "outputs": [
        {
          "output_type": "execute_result",
          "data": {
            "text/plain": [
              "'Hell'"
            ],
            "application/vnd.google.colaboratory.intrinsic+json": {
              "type": "string"
            }
          },
          "metadata": {},
          "execution_count": 35
        }
      ]
    },
    {
      "cell_type": "code",
      "source": [
        "st3[-120:-80]"
      ],
      "metadata": {
        "colab": {
          "base_uri": "https://localhost:8080/",
          "height": 36
        },
        "id": "meJN4wTLYOOL",
        "outputId": "7d4f780f-6c74-4e15-9246-e047e7990bc5"
      },
      "execution_count": 36,
      "outputs": [
        {
          "output_type": "execute_result",
          "data": {
            "text/plain": [
              "''"
            ],
            "application/vnd.google.colaboratory.intrinsic+json": {
              "type": "string"
            }
          },
          "metadata": {},
          "execution_count": 36
        }
      ]
    },
    {
      "cell_type": "code",
      "source": [
        "#count(st3)"
      ],
      "metadata": {
        "id": "LQYPCKTSYbzC"
      },
      "execution_count": 41,
      "outputs": []
    },
    {
      "cell_type": "code",
      "source": [
        "#st3.count()"
      ],
      "metadata": {
        "id": "K6uZBAL5YuSa"
      },
      "execution_count": 40,
      "outputs": []
    },
    {
      "cell_type": "code",
      "source": [
        "len(st3)"
      ],
      "metadata": {
        "colab": {
          "base_uri": "https://localhost:8080/"
        },
        "id": "6HbzmQ8BY3Jt",
        "outputId": "c1954a63-2082-493b-8e27-d08d9c4c742e"
      },
      "execution_count": 42,
      "outputs": [
        {
          "output_type": "execute_result",
          "data": {
            "text/plain": [
              "12"
            ]
          },
          "metadata": {},
          "execution_count": 42
        }
      ]
    },
    {
      "cell_type": "code",
      "source": [
        "### create s1 and assign value as Hello and create another string s2 and\n",
        "### assign value as Python and add these two strings\n",
        "st1= \"Hello\"\n",
        "st2= \"Python\"\n",
        "print(st1+st2)"
      ],
      "metadata": {
        "colab": {
          "base_uri": "https://localhost:8080/"
        },
        "id": "w8MX_Q68Y_YP",
        "outputId": "677dd0d7-66e4-4766-c4e6-c04cd2ab2881"
      },
      "execution_count": 43,
      "outputs": [
        {
          "output_type": "stream",
          "name": "stdout",
          "text": [
            "HelloPython\n"
          ]
        }
      ]
    },
    {
      "cell_type": "code",
      "source": [
        "s3=st1+\" \"+st2"
      ],
      "metadata": {
        "id": "bHkHpF2caANy"
      },
      "execution_count": 45,
      "outputs": []
    },
    {
      "cell_type": "code",
      "source": [
        "s3"
      ],
      "metadata": {
        "colab": {
          "base_uri": "https://localhost:8080/",
          "height": 36
        },
        "id": "K_m1SCuoaiSo",
        "outputId": "2247f12e-af08-4198-9bbf-b7ae2dc8eaed"
      },
      "execution_count": 46,
      "outputs": [
        {
          "output_type": "execute_result",
          "data": {
            "text/plain": [
              "'Hello Python'"
            ],
            "application/vnd.google.colaboratory.intrinsic+json": {
              "type": "string"
            }
          },
          "metadata": {},
          "execution_count": 46
        }
      ]
    },
    {
      "cell_type": "code",
      "source": [
        "s3=\"Hello\"\n",
        "s2=3\n",
        "s1=s2*s3\n",
        "s1"
      ],
      "metadata": {
        "colab": {
          "base_uri": "https://localhost:8080/",
          "height": 36
        },
        "id": "BzpwMTPEalXH",
        "outputId": "cb148a95-4f18-400e-85bb-a48fadb888b2"
      },
      "execution_count": 47,
      "outputs": [
        {
          "output_type": "execute_result",
          "data": {
            "text/plain": [
              "'HelloHelloHello'"
            ],
            "application/vnd.google.colaboratory.intrinsic+json": {
              "type": "string"
            }
          },
          "metadata": {},
          "execution_count": 47
        }
      ]
    },
    {
      "cell_type": "code",
      "source": [
        "for i in s1:\n",
        "  print(i)"
      ],
      "metadata": {
        "colab": {
          "base_uri": "https://localhost:8080/"
        },
        "id": "t_Ol2Mv2a8T7",
        "outputId": "664f556b-45f8-496e-b463-32965e82e617"
      },
      "execution_count": 48,
      "outputs": [
        {
          "output_type": "stream",
          "name": "stdout",
          "text": [
            "H\n",
            "e\n",
            "l\n",
            "l\n",
            "o\n",
            "H\n",
            "e\n",
            "l\n",
            "l\n",
            "o\n",
            "H\n",
            "e\n",
            "l\n",
            "l\n",
            "o\n"
          ]
        }
      ]
    },
    {
      "cell_type": "code",
      "source": [
        "for i in s1:\n",
        "  print(i,end=\" \")"
      ],
      "metadata": {
        "colab": {
          "base_uri": "https://localhost:8080/"
        },
        "id": "fglULeEibchH",
        "outputId": "8e9890a7-40f2-4688-f375-07bb53bb23f3"
      },
      "execution_count": 49,
      "outputs": [
        {
          "output_type": "stream",
          "name": "stdout",
          "text": [
            "H e l l o H e l l o H e l l o "
          ]
        }
      ]
    },
    {
      "cell_type": "code",
      "source": [
        "s1.lower()"
      ],
      "metadata": {
        "colab": {
          "base_uri": "https://localhost:8080/",
          "height": 36
        },
        "id": "1szmQFgyb9RD",
        "outputId": "73e7ccc3-1fd7-41e2-ff9a-7ce58ae76615"
      },
      "execution_count": 50,
      "outputs": [
        {
          "output_type": "execute_result",
          "data": {
            "text/plain": [
              "'hellohellohello'"
            ],
            "application/vnd.google.colaboratory.intrinsic+json": {
              "type": "string"
            }
          },
          "metadata": {},
          "execution_count": 50
        }
      ]
    },
    {
      "cell_type": "code",
      "source": [
        "str4=\"Hello, Have a nice day\"\n",
        "### lowercase\n",
        "str4.lower()"
      ],
      "metadata": {
        "colab": {
          "base_uri": "https://localhost:8080/",
          "height": 36
        },
        "id": "j4h2pHe9cLLr",
        "outputId": "787020ce-0368-4bff-84ee-4f8bdbdd4556"
      },
      "execution_count": 51,
      "outputs": [
        {
          "output_type": "execute_result",
          "data": {
            "text/plain": [
              "'hello, have a nice day'"
            ],
            "application/vnd.google.colaboratory.intrinsic+json": {
              "type": "string"
            }
          },
          "metadata": {},
          "execution_count": 51
        }
      ]
    },
    {
      "cell_type": "code",
      "source": [
        "str4.upper()"
      ],
      "metadata": {
        "colab": {
          "base_uri": "https://localhost:8080/",
          "height": 36
        },
        "id": "LrZ1v6WWcaRC",
        "outputId": "e21d870d-3f11-4b6a-dbf4-3c5f6d886bf0"
      },
      "execution_count": 52,
      "outputs": [
        {
          "output_type": "execute_result",
          "data": {
            "text/plain": [
              "'HELLO, HAVE A NICE DAY'"
            ],
            "application/vnd.google.colaboratory.intrinsic+json": {
              "type": "string"
            }
          },
          "metadata": {},
          "execution_count": 52
        }
      ]
    },
    {
      "cell_type": "code",
      "source": [
        "str4.title()"
      ],
      "metadata": {
        "colab": {
          "base_uri": "https://localhost:8080/",
          "height": 36
        },
        "id": "t5w2NQS8cqXI",
        "outputId": "f95f809e-68c0-4e71-8b76-c71d88cbc7d6"
      },
      "execution_count": 53,
      "outputs": [
        {
          "output_type": "execute_result",
          "data": {
            "text/plain": [
              "'Hello, Have A Nice Day'"
            ],
            "application/vnd.google.colaboratory.intrinsic+json": {
              "type": "string"
            }
          },
          "metadata": {},
          "execution_count": 53
        }
      ]
    },
    {
      "cell_type": "code",
      "source": [
        "str4.replace(\"nice\",\"good\")"
      ],
      "metadata": {
        "colab": {
          "base_uri": "https://localhost:8080/",
          "height": 36
        },
        "id": "f168Utp9dWNh",
        "outputId": "4d84aef1-a246-45ef-d489-771c33377c4a"
      },
      "execution_count": 54,
      "outputs": [
        {
          "output_type": "execute_result",
          "data": {
            "text/plain": [
              "'Hello, Have a good day'"
            ],
            "application/vnd.google.colaboratory.intrinsic+json": {
              "type": "string"
            }
          },
          "metadata": {},
          "execution_count": 54
        }
      ]
    },
    {
      "cell_type": "code",
      "source": [
        "\"day\" in str4"
      ],
      "metadata": {
        "colab": {
          "base_uri": "https://localhost:8080/"
        },
        "id": "1c8MXZ7md6Ce",
        "outputId": "59d04f54-9675-4258-b939-440e23dfc8b3"
      },
      "execution_count": 55,
      "outputs": [
        {
          "output_type": "execute_result",
          "data": {
            "text/plain": [
              "True"
            ]
          },
          "metadata": {},
          "execution_count": 55
        }
      ]
    },
    {
      "cell_type": "code",
      "source": [
        "\"night\" in str4"
      ],
      "metadata": {
        "colab": {
          "base_uri": "https://localhost:8080/"
        },
        "id": "76fd-5QoeGrd",
        "outputId": "efef9c15-fb28-41cd-98f0-b336aa65f4f7"
      },
      "execution_count": 56,
      "outputs": [
        {
          "output_type": "execute_result",
          "data": {
            "text/plain": [
              "False"
            ]
          },
          "metadata": {},
          "execution_count": 56
        }
      ]
    },
    {
      "cell_type": "code",
      "source": [
        "len(str4)"
      ],
      "metadata": {
        "colab": {
          "base_uri": "https://localhost:8080/"
        },
        "id": "EX9tsIuleJF8",
        "outputId": "8722da43-361f-434c-9893-50271f18100c"
      },
      "execution_count": 57,
      "outputs": [
        {
          "output_type": "execute_result",
          "data": {
            "text/plain": [
              "22"
            ]
          },
          "metadata": {},
          "execution_count": 57
        }
      ]
    },
    {
      "cell_type": "code",
      "source": [
        "str4[22]"
      ],
      "metadata": {
        "colab": {
          "base_uri": "https://localhost:8080/",
          "height": 144
        },
        "id": "-9vmZwWMeSAq",
        "outputId": "089ff467-5c64-4231-e6a1-456d2ff82cf4"
      },
      "execution_count": 58,
      "outputs": [
        {
          "output_type": "error",
          "ename": "IndexError",
          "evalue": "string index out of range",
          "traceback": [
            "\u001b[0;31m---------------------------------------------------------------------------\u001b[0m",
            "\u001b[0;31mIndexError\u001b[0m                                Traceback (most recent call last)",
            "\u001b[0;32m/tmp/ipython-input-899686981.py\u001b[0m in \u001b[0;36m<cell line: 0>\u001b[0;34m()\u001b[0m\n\u001b[0;32m----> 1\u001b[0;31m \u001b[0mstr4\u001b[0m\u001b[0;34m[\u001b[0m\u001b[0;36m22\u001b[0m\u001b[0;34m]\u001b[0m\u001b[0;34m\u001b[0m\u001b[0;34m\u001b[0m\u001b[0m\n\u001b[0m",
            "\u001b[0;31mIndexError\u001b[0m: string index out of range"
          ]
        }
      ]
    },
    {
      "cell_type": "code",
      "source": [
        "str4[21]"
      ],
      "metadata": {
        "colab": {
          "base_uri": "https://localhost:8080/",
          "height": 36
        },
        "id": "sq_WAbqheVkc",
        "outputId": "c2e1e916-72b4-40cf-f34d-d9a84a6b56cb"
      },
      "execution_count": 59,
      "outputs": [
        {
          "output_type": "execute_result",
          "data": {
            "text/plain": [
              "'y'"
            ],
            "application/vnd.google.colaboratory.intrinsic+json": {
              "type": "string"
            }
          },
          "metadata": {},
          "execution_count": 59
        }
      ]
    },
    {
      "cell_type": "code",
      "source": [
        "str4"
      ],
      "metadata": {
        "colab": {
          "base_uri": "https://localhost:8080/",
          "height": 36
        },
        "id": "9g1ZRoCwe1bh",
        "outputId": "d2c0b0b2-e5b0-4ddc-f749-1b55035c65d6"
      },
      "execution_count": 63,
      "outputs": [
        {
          "output_type": "execute_result",
          "data": {
            "text/plain": [
              "'Hello, Have a nice day'"
            ],
            "application/vnd.google.colaboratory.intrinsic+json": {
              "type": "string"
            }
          },
          "metadata": {},
          "execution_count": 63
        }
      ]
    },
    {
      "cell_type": "code",
      "source": [
        "str4.count(\"H\")"
      ],
      "metadata": {
        "colab": {
          "base_uri": "https://localhost:8080/"
        },
        "id": "PmrUmVnbeYAR",
        "outputId": "67e0e091-1394-4164-8e29-34274179e2ac"
      },
      "execution_count": 67,
      "outputs": [
        {
          "output_type": "execute_result",
          "data": {
            "text/plain": [
              "2"
            ]
          },
          "metadata": {},
          "execution_count": 67
        }
      ]
    },
    {
      "cell_type": "code",
      "source": [
        "str4.startswith(\"Hello\")"
      ],
      "metadata": {
        "colab": {
          "base_uri": "https://localhost:8080/"
        },
        "id": "T-dvvUE-eqzC",
        "outputId": "987ba3e2-52be-40d6-f740-fdc2cdb592ce"
      },
      "execution_count": 69,
      "outputs": [
        {
          "output_type": "execute_result",
          "data": {
            "text/plain": [
              "True"
            ]
          },
          "metadata": {},
          "execution_count": 69
        }
      ]
    },
    {
      "cell_type": "code",
      "source": [
        "str4.startswith(\"Have\")"
      ],
      "metadata": {
        "colab": {
          "base_uri": "https://localhost:8080/"
        },
        "id": "bQ7cFVdpfG9N",
        "outputId": "5e14082f-6f9d-4349-8eab-a0565a0d4c55"
      },
      "execution_count": 70,
      "outputs": [
        {
          "output_type": "execute_result",
          "data": {
            "text/plain": [
              "False"
            ]
          },
          "metadata": {},
          "execution_count": 70
        }
      ]
    },
    {
      "cell_type": "code",
      "source": [
        "str4.endswith(\"day\")"
      ],
      "metadata": {
        "colab": {
          "base_uri": "https://localhost:8080/"
        },
        "id": "QyAsj9jafL2f",
        "outputId": "0ef03478-a7b7-466a-98b7-bb3cdf2e946a"
      },
      "execution_count": 71,
      "outputs": [
        {
          "output_type": "execute_result",
          "data": {
            "text/plain": [
              "True"
            ]
          },
          "metadata": {},
          "execution_count": 71
        }
      ]
    },
    {
      "cell_type": "code",
      "source": [
        "str5=\"one two three four one two four one\""
      ],
      "metadata": {
        "id": "mLukrsYpfdF8"
      },
      "execution_count": 76,
      "outputs": []
    },
    {
      "cell_type": "code",
      "source": [
        "str5.split()"
      ],
      "metadata": {
        "colab": {
          "base_uri": "https://localhost:8080/"
        },
        "id": "X_qUlx2ifkVF",
        "outputId": "268ad634-8559-4478-e123-ae1cd1a626ba"
      },
      "execution_count": 77,
      "outputs": [
        {
          "output_type": "execute_result",
          "data": {
            "text/plain": [
              "['one', 'two', 'three', 'four', 'one', 'two', 'four', 'one']"
            ]
          },
          "metadata": {},
          "execution_count": 77
        }
      ]
    },
    {
      "cell_type": "code",
      "source": [
        "str5.count(\"one\")"
      ],
      "metadata": {
        "colab": {
          "base_uri": "https://localhost:8080/"
        },
        "id": "kqtzkcRbf659",
        "outputId": "a73ebc68-a59c-462a-e576-0c0ce8d83fda"
      },
      "execution_count": 78,
      "outputs": [
        {
          "output_type": "execute_result",
          "data": {
            "text/plain": [
              "3"
            ]
          },
          "metadata": {},
          "execution_count": 78
        }
      ]
    },
    {
      "cell_type": "code",
      "source": [
        "str5.center(100)"
      ],
      "metadata": {
        "colab": {
          "base_uri": "https://localhost:8080/",
          "height": 36
        },
        "id": "XS_j2jTJgbOF",
        "outputId": "1da5904e-f9cf-4340-babb-85664b032a42"
      },
      "execution_count": 83,
      "outputs": [
        {
          "output_type": "execute_result",
          "data": {
            "text/plain": [
              "'                                one two three four one two four one                                 '"
            ],
            "application/vnd.google.colaboratory.intrinsic+json": {
              "type": "string"
            }
          },
          "metadata": {},
          "execution_count": 83
        }
      ]
    },
    {
      "cell_type": "code",
      "source": [
        "str5.rjust(100,\"*\")"
      ],
      "metadata": {
        "colab": {
          "base_uri": "https://localhost:8080/",
          "height": 36
        },
        "id": "ldd-xJu8m52G",
        "outputId": "86d91fe4-0cd5-4532-81f6-8632141a8e52"
      },
      "execution_count": 84,
      "outputs": [
        {
          "output_type": "execute_result",
          "data": {
            "text/plain": [
              "'*****************************************************************one two three four one two four one'"
            ],
            "application/vnd.google.colaboratory.intrinsic+json": {
              "type": "string"
            }
          },
          "metadata": {},
          "execution_count": 84
        }
      ]
    },
    {
      "cell_type": "code",
      "source": [
        "str5.find(\"one\")"
      ],
      "metadata": {
        "colab": {
          "base_uri": "https://localhost:8080/"
        },
        "id": "qePoErT6nfRe",
        "outputId": "65e35ddf-2c96-492c-81c1-539dec4b7537"
      },
      "execution_count": 85,
      "outputs": [
        {
          "output_type": "execute_result",
          "data": {
            "text/plain": [
              "0"
            ]
          },
          "metadata": {},
          "execution_count": 85
        }
      ]
    },
    {
      "cell_type": "code",
      "source": [
        "str5.index(\"one\")"
      ],
      "metadata": {
        "colab": {
          "base_uri": "https://localhost:8080/"
        },
        "id": "awipUFjDoRs_",
        "outputId": "edaece3e-267a-484a-cad0-d45d3142f433"
      },
      "execution_count": 87,
      "outputs": [
        {
          "output_type": "execute_result",
          "data": {
            "text/plain": [
              "0"
            ]
          },
          "metadata": {},
          "execution_count": 87
        }
      ]
    },
    {
      "cell_type": "code",
      "source": [
        "str5.find(\"three\")"
      ],
      "metadata": {
        "colab": {
          "base_uri": "https://localhost:8080/"
        },
        "id": "xTmxN_qvoTu8",
        "outputId": "eabe388d-6fbe-4ecb-8286-d70742af271c"
      },
      "execution_count": 88,
      "outputs": [
        {
          "output_type": "execute_result",
          "data": {
            "text/plain": [
              "8"
            ]
          },
          "metadata": {},
          "execution_count": 88
        }
      ]
    },
    {
      "cell_type": "code",
      "source": [
        "str5.index(\"three\")"
      ],
      "metadata": {
        "colab": {
          "base_uri": "https://localhost:8080/"
        },
        "id": "cwy7q5yGoZpg",
        "outputId": "49f3bb8c-5aac-4e00-9cd5-787672571b0a"
      },
      "execution_count": 89,
      "outputs": [
        {
          "output_type": "execute_result",
          "data": {
            "text/plain": [
              "8"
            ]
          },
          "metadata": {},
          "execution_count": 89
        }
      ]
    },
    {
      "cell_type": "code",
      "source": [
        "str5.isnumeric()"
      ],
      "metadata": {
        "colab": {
          "base_uri": "https://localhost:8080/"
        },
        "id": "UF2aA_yLoeCj",
        "outputId": "1d19e3b1-5366-4794-fc01-7df295dc7a2b"
      },
      "execution_count": 90,
      "outputs": [
        {
          "output_type": "execute_result",
          "data": {
            "text/plain": [
              "False"
            ]
          },
          "metadata": {},
          "execution_count": 90
        }
      ]
    },
    {
      "cell_type": "code",
      "source": [
        "str5.isdecimal()"
      ],
      "metadata": {
        "colab": {
          "base_uri": "https://localhost:8080/"
        },
        "id": "rn9nQpLwow1Q",
        "outputId": "5ecd8dcf-1e43-420d-b2e4-4fe4225fd8d0"
      },
      "execution_count": 91,
      "outputs": [
        {
          "output_type": "execute_result",
          "data": {
            "text/plain": [
              "False"
            ]
          },
          "metadata": {},
          "execution_count": 91
        }
      ]
    },
    {
      "cell_type": "code",
      "source": [
        "str5.isalpha()"
      ],
      "metadata": {
        "colab": {
          "base_uri": "https://localhost:8080/"
        },
        "id": "9m3bcG3Coz_f",
        "outputId": "bf6cd3d6-b33f-45ac-a4da-4f67ec2f82cf"
      },
      "execution_count": 92,
      "outputs": [
        {
          "output_type": "execute_result",
          "data": {
            "text/plain": [
              "False"
            ]
          },
          "metadata": {},
          "execution_count": 92
        }
      ]
    },
    {
      "cell_type": "code",
      "source": [
        "str5.isalnum()"
      ],
      "metadata": {
        "colab": {
          "base_uri": "https://localhost:8080/"
        },
        "id": "jIado0y-pBZN",
        "outputId": "37f8ddc7-66a8-4981-da2d-68774da0de13"
      },
      "execution_count": 94,
      "outputs": [
        {
          "output_type": "execute_result",
          "data": {
            "text/plain": [
              "False"
            ]
          },
          "metadata": {},
          "execution_count": 94
        }
      ]
    },
    {
      "cell_type": "code",
      "source": [
        "mystr=\"12345\"\n",
        "mystr.isnumeric()"
      ],
      "metadata": {
        "colab": {
          "base_uri": "https://localhost:8080/"
        },
        "id": "nRD4ogFXpF04",
        "outputId": "f94cd0be-4981-4ce4-f2c3-008c451ea62a"
      },
      "execution_count": 95,
      "outputs": [
        {
          "output_type": "execute_result",
          "data": {
            "text/plain": [
              "True"
            ]
          },
          "metadata": {},
          "execution_count": 95
        }
      ]
    },
    {
      "cell_type": "code",
      "source": [
        "mystr.isdecimal()"
      ],
      "metadata": {
        "colab": {
          "base_uri": "https://localhost:8080/"
        },
        "id": "FeBlXgbXpaug",
        "outputId": "8e3cc0c5-023b-4666-900e-71aee2d4d5d1"
      },
      "execution_count": 96,
      "outputs": [
        {
          "output_type": "execute_result",
          "data": {
            "text/plain": [
              "True"
            ]
          },
          "metadata": {},
          "execution_count": 96
        }
      ]
    },
    {
      "cell_type": "code",
      "source": [
        "mystr.isalnum()"
      ],
      "metadata": {
        "colab": {
          "base_uri": "https://localhost:8080/"
        },
        "id": "pHBgWuYypexO",
        "outputId": "c51643a5-0229-485e-dc09-6f600f7fb94d"
      },
      "execution_count": 97,
      "outputs": [
        {
          "output_type": "execute_result",
          "data": {
            "text/plain": [
              "True"
            ]
          },
          "metadata": {},
          "execution_count": 97
        }
      ]
    },
    {
      "cell_type": "code",
      "source": [
        "mystr.isalpha()"
      ],
      "metadata": {
        "colab": {
          "base_uri": "https://localhost:8080/"
        },
        "id": "rBCy1r06phv0",
        "outputId": "b553c80f-1795-4b21-a4bb-c6e26536359c"
      },
      "execution_count": 98,
      "outputs": [
        {
          "output_type": "execute_result",
          "data": {
            "text/plain": [
              "False"
            ]
          },
          "metadata": {},
          "execution_count": 98
        }
      ]
    },
    {
      "cell_type": "code",
      "source": [
        "mystr1=\"abcd1234\"\n",
        "mystr1.isalnum()"
      ],
      "metadata": {
        "colab": {
          "base_uri": "https://localhost:8080/"
        },
        "id": "32ZEJN1Npkqj",
        "outputId": "d57d112b-b443-4963-ade8-f62db2c9d96f"
      },
      "execution_count": 102,
      "outputs": [
        {
          "output_type": "execute_result",
          "data": {
            "text/plain": [
              "True"
            ]
          },
          "metadata": {},
          "execution_count": 102
        }
      ]
    },
    {
      "cell_type": "markdown",
      "source": [
        "### Assessment -1"
      ],
      "metadata": {
        "id": "oVSbw1m8q0XN"
      }
    },
    {
      "cell_type": "markdown",
      "source": [
        "![image.png](data:image/png;base64,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)"
      ],
      "metadata": {
        "id": "d_SoNLwKqyFW"
      }
    },
    {
      "cell_type": "code",
      "source": [
        "word = \"Python\"\n",
        "print(word[::-1])"
      ],
      "metadata": {
        "colab": {
          "base_uri": "https://localhost:8080/"
        },
        "id": "LInwzh4OqXQi",
        "outputId": "3ef46c49-6240-4ecc-908a-a209c6e77e7d"
      },
      "execution_count": 103,
      "outputs": [
        {
          "output_type": "stream",
          "name": "stdout",
          "text": [
            "nohtyP\n"
          ]
        }
      ]
    },
    {
      "cell_type": "code",
      "source": [
        "### List\n",
        "list1=[2,5,17,18.8,\"python\",\"pyspark\",\"sql\",\"apple\",180.7]\n",
        "list1"
      ],
      "metadata": {
        "colab": {
          "base_uri": "https://localhost:8080/"
        },
        "id": "ZLtW4ucTuisx",
        "outputId": "1901fe44-c5e2-4904-c5be-8ced10f18182"
      },
      "execution_count": 104,
      "outputs": [
        {
          "output_type": "execute_result",
          "data": {
            "text/plain": [
              "[2, 5, 17, 18.8, 'python', 'pyspark', 'sql', 'apple', 180.7]"
            ]
          },
          "metadata": {},
          "execution_count": 104
        }
      ]
    },
    {
      "cell_type": "code",
      "source": [
        "### List is heterogenous(multiple data types)\n",
        "### ordered sequence of items"
      ],
      "metadata": {
        "id": "V_Sw-O7jvFL1"
      },
      "execution_count": null,
      "outputs": []
    },
    {
      "cell_type": "code",
      "source": [
        "list1[0]"
      ],
      "metadata": {
        "colab": {
          "base_uri": "https://localhost:8080/"
        },
        "id": "us-K2kzdvWsN",
        "outputId": "df9754b1-4649-462a-da74-2513bec194f5"
      },
      "execution_count": 105,
      "outputs": [
        {
          "output_type": "execute_result",
          "data": {
            "text/plain": [
              "2"
            ]
          },
          "metadata": {},
          "execution_count": 105
        }
      ]
    },
    {
      "cell_type": "code",
      "source": [
        "list1[5]"
      ],
      "metadata": {
        "colab": {
          "base_uri": "https://localhost:8080/",
          "height": 36
        },
        "id": "qGwqDHD4vZJd",
        "outputId": "759cf7b7-4e45-424b-c6d5-b4bc5627c115"
      },
      "execution_count": 106,
      "outputs": [
        {
          "output_type": "execute_result",
          "data": {
            "text/plain": [
              "'pyspark'"
            ],
            "application/vnd.google.colaboratory.intrinsic+json": {
              "type": "string"
            }
          },
          "metadata": {},
          "execution_count": 106
        }
      ]
    },
    {
      "cell_type": "code",
      "source": [
        "list1[10]"
      ],
      "metadata": {
        "colab": {
          "base_uri": "https://localhost:8080/",
          "height": 144
        },
        "id": "BzsHDbInvcMm",
        "outputId": "ee262449-f176-4634-c89b-c065b6e467f5"
      },
      "execution_count": 107,
      "outputs": [
        {
          "output_type": "error",
          "ename": "IndexError",
          "evalue": "list index out of range",
          "traceback": [
            "\u001b[0;31m---------------------------------------------------------------------------\u001b[0m",
            "\u001b[0;31mIndexError\u001b[0m                                Traceback (most recent call last)",
            "\u001b[0;32m/tmp/ipython-input-3795597387.py\u001b[0m in \u001b[0;36m<cell line: 0>\u001b[0;34m()\u001b[0m\n\u001b[0;32m----> 1\u001b[0;31m \u001b[0mlist1\u001b[0m\u001b[0;34m[\u001b[0m\u001b[0;36m10\u001b[0m\u001b[0;34m]\u001b[0m\u001b[0;34m\u001b[0m\u001b[0;34m\u001b[0m\u001b[0m\n\u001b[0m",
            "\u001b[0;31mIndexError\u001b[0m: list index out of range"
          ]
        }
      ]
    },
    {
      "cell_type": "code",
      "source": [
        "list1[2:18]"
      ],
      "metadata": {
        "colab": {
          "base_uri": "https://localhost:8080/"
        },
        "id": "n0dv5VuCvhIY",
        "outputId": "0e004f70-cf9d-4603-dd7a-7e3310d65c03"
      },
      "execution_count": 109,
      "outputs": [
        {
          "output_type": "execute_result",
          "data": {
            "text/plain": [
              "[17, 18.8, 'python', 'pyspark', 'sql', 'apple', 180.7]"
            ]
          },
          "metadata": {},
          "execution_count": 109
        }
      ]
    },
    {
      "cell_type": "code",
      "source": [
        "list1[-1]"
      ],
      "metadata": {
        "colab": {
          "base_uri": "https://localhost:8080/"
        },
        "id": "VszGtKe8vmGI",
        "outputId": "f57fcba0-6c14-49d0-a100-8686409aa5d8"
      },
      "execution_count": 110,
      "outputs": [
        {
          "output_type": "execute_result",
          "data": {
            "text/plain": [
              "180.7"
            ]
          },
          "metadata": {},
          "execution_count": 110
        }
      ]
    },
    {
      "cell_type": "code",
      "source": [
        "list2=[2,5,17,18.8,\"python\",[12,65.9,True],\"pyspark\",\"sql\",\"apple\",[15,17],180.7]\n",
        "list2"
      ],
      "metadata": {
        "colab": {
          "base_uri": "https://localhost:8080/"
        },
        "id": "rI_fJw6Ivvxb",
        "outputId": "f87b73c6-e5dc-4cef-9c49-68775b5204e9"
      },
      "execution_count": 128,
      "outputs": [
        {
          "output_type": "execute_result",
          "data": {
            "text/plain": [
              "[2,\n",
              " 5,\n",
              " 17,\n",
              " 18.8,\n",
              " 'python',\n",
              " [12, 65.9, True],\n",
              " 'pyspark',\n",
              " 'sql',\n",
              " 'apple',\n",
              " [15, 17],\n",
              " 180.7]"
            ]
          },
          "metadata": {},
          "execution_count": 128
        }
      ]
    },
    {
      "cell_type": "code",
      "source": [
        "list2[5]"
      ],
      "metadata": {
        "colab": {
          "base_uri": "https://localhost:8080/"
        },
        "id": "MtBMvvqOwIGR",
        "outputId": "d8e46e7f-a499-4c20-b851-80a70a646b82"
      },
      "execution_count": 112,
      "outputs": [
        {
          "output_type": "execute_result",
          "data": {
            "text/plain": [
              "[12, 65.9, True]"
            ]
          },
          "metadata": {},
          "execution_count": 112
        }
      ]
    },
    {
      "cell_type": "code",
      "source": [
        "list2[5][0]"
      ],
      "metadata": {
        "colab": {
          "base_uri": "https://localhost:8080/"
        },
        "id": "C7HuQMdPwhf_",
        "outputId": "e99c6656-d1b0-4ceb-906d-0387daec57f7"
      },
      "execution_count": 113,
      "outputs": [
        {
          "output_type": "execute_result",
          "data": {
            "text/plain": [
              "12"
            ]
          },
          "metadata": {},
          "execution_count": 113
        }
      ]
    },
    {
      "cell_type": "code",
      "source": [
        "len(list1)"
      ],
      "metadata": {
        "colab": {
          "base_uri": "https://localhost:8080/"
        },
        "id": "he5ZTGNJwnIO",
        "outputId": "09d5368d-e307-48d1-b9af-454d721be83e"
      },
      "execution_count": 114,
      "outputs": [
        {
          "output_type": "execute_result",
          "data": {
            "text/plain": [
              "9"
            ]
          },
          "metadata": {},
          "execution_count": 114
        }
      ]
    },
    {
      "cell_type": "code",
      "source": [
        "len(list2)"
      ],
      "metadata": {
        "colab": {
          "base_uri": "https://localhost:8080/"
        },
        "id": "VYTroYHuw-IM",
        "outputId": "7e536b70-1b95-4e71-f126-d30551007a4e"
      },
      "execution_count": 115,
      "outputs": [
        {
          "output_type": "execute_result",
          "data": {
            "text/plain": [
              "11"
            ]
          },
          "metadata": {},
          "execution_count": 115
        }
      ]
    },
    {
      "cell_type": "code",
      "source": [
        "list2.add(100)"
      ],
      "metadata": {
        "colab": {
          "base_uri": "https://localhost:8080/",
          "height": 144
        },
        "id": "G9s1jClAw_s7",
        "outputId": "c8a1d6fb-73e6-4788-a84c-830697d834ca"
      },
      "execution_count": 116,
      "outputs": [
        {
          "output_type": "error",
          "ename": "AttributeError",
          "evalue": "'list' object has no attribute 'add'",
          "traceback": [
            "\u001b[0;31m---------------------------------------------------------------------------\u001b[0m",
            "\u001b[0;31mAttributeError\u001b[0m                            Traceback (most recent call last)",
            "\u001b[0;32m/tmp/ipython-input-3101999452.py\u001b[0m in \u001b[0;36m<cell line: 0>\u001b[0;34m()\u001b[0m\n\u001b[0;32m----> 1\u001b[0;31m \u001b[0mlist2\u001b[0m\u001b[0;34m.\u001b[0m\u001b[0madd\u001b[0m\u001b[0;34m(\u001b[0m\u001b[0;36m100\u001b[0m\u001b[0;34m)\u001b[0m\u001b[0;34m\u001b[0m\u001b[0;34m\u001b[0m\u001b[0m\n\u001b[0m",
            "\u001b[0;31mAttributeError\u001b[0m: 'list' object has no attribute 'add'"
          ]
        }
      ]
    },
    {
      "cell_type": "code",
      "source": [
        "list2.append(100)\n"
      ],
      "metadata": {
        "id": "Vew1AblmxRbF"
      },
      "execution_count": 118,
      "outputs": []
    },
    {
      "cell_type": "code",
      "source": [
        "list2.append(100)"
      ],
      "metadata": {
        "id": "FYmXCWOWxeay"
      },
      "execution_count": 124,
      "outputs": []
    },
    {
      "cell_type": "code",
      "source": [
        "list2"
      ],
      "metadata": {
        "colab": {
          "base_uri": "https://localhost:8080/"
        },
        "id": "9lFJ_d-RxmY_",
        "outputId": "91ad8909-95a4-442e-983d-e9b1c2b9299e"
      },
      "execution_count": 125,
      "outputs": [
        {
          "output_type": "execute_result",
          "data": {
            "text/plain": [
              "[2,\n",
              " 5,\n",
              " 17,\n",
              " 18.8,\n",
              " 'python',\n",
              " [12, 65.9, True],\n",
              " 'pyspark',\n",
              " 'sql',\n",
              " 'apple',\n",
              " [15, 17],\n",
              " 180.7,\n",
              " 100]"
            ]
          },
          "metadata": {},
          "execution_count": 125
        }
      ]
    },
    {
      "cell_type": "code",
      "source": [
        "list2.insert(100,3)"
      ],
      "metadata": {
        "id": "NC30iNYXxoAw"
      },
      "execution_count": 126,
      "outputs": []
    },
    {
      "cell_type": "code",
      "source": [
        "list2"
      ],
      "metadata": {
        "colab": {
          "base_uri": "https://localhost:8080/"
        },
        "id": "_1-MWqkYyiCG",
        "outputId": "72bc6750-9646-46c0-c1fc-e0b21068b690"
      },
      "execution_count": 127,
      "outputs": [
        {
          "output_type": "execute_result",
          "data": {
            "text/plain": [
              "[2,\n",
              " 5,\n",
              " 17,\n",
              " 18.8,\n",
              " 'python',\n",
              " [12, 65.9, True],\n",
              " 'pyspark',\n",
              " 'sql',\n",
              " 'apple',\n",
              " [15, 17],\n",
              " 180.7,\n",
              " 100,\n",
              " 3]"
            ]
          },
          "metadata": {},
          "execution_count": 127
        }
      ]
    },
    {
      "cell_type": "code",
      "source": [
        "list2.insert(3,100)"
      ],
      "metadata": {
        "id": "nwGrNS4dyi2H"
      },
      "execution_count": 129,
      "outputs": []
    },
    {
      "cell_type": "code",
      "source": [
        "list2"
      ],
      "metadata": {
        "colab": {
          "base_uri": "https://localhost:8080/"
        },
        "id": "Jk5V1e_zy0JS",
        "outputId": "195abdcb-2e18-400f-88d5-dfe983e4b16e"
      },
      "execution_count": 130,
      "outputs": [
        {
          "output_type": "execute_result",
          "data": {
            "text/plain": [
              "[2,\n",
              " 5,\n",
              " 17,\n",
              " 100,\n",
              " 18.8,\n",
              " 'python',\n",
              " [12, 65.9, True],\n",
              " 'pyspark',\n",
              " 'sql',\n",
              " 'apple',\n",
              " [15, 17],\n",
              " 180.7]"
            ]
          },
          "metadata": {},
          "execution_count": 130
        }
      ]
    },
    {
      "cell_type": "code",
      "source": [
        "list2.remove(100)"
      ],
      "metadata": {
        "id": "T9II2h4vy1Ew"
      },
      "execution_count": 131,
      "outputs": []
    },
    {
      "cell_type": "code",
      "source": [
        "list2"
      ],
      "metadata": {
        "colab": {
          "base_uri": "https://localhost:8080/"
        },
        "id": "yxmJVTXkzEu5",
        "outputId": "75ca26d7-6b13-415b-b4cd-41189e9a0cc6"
      },
      "execution_count": 132,
      "outputs": [
        {
          "output_type": "execute_result",
          "data": {
            "text/plain": [
              "[2,\n",
              " 5,\n",
              " 17,\n",
              " 18.8,\n",
              " 'python',\n",
              " [12, 65.9, True],\n",
              " 'pyspark',\n",
              " 'sql',\n",
              " 'apple',\n",
              " [15, 17],\n",
              " 180.7]"
            ]
          },
          "metadata": {},
          "execution_count": 132
        }
      ]
    },
    {
      "cell_type": "code",
      "source": [
        "list2.pop()"
      ],
      "metadata": {
        "colab": {
          "base_uri": "https://localhost:8080/"
        },
        "id": "B98uXPT8zF4B",
        "outputId": "107ebe15-706b-4003-c501-e15443b0a675"
      },
      "execution_count": 133,
      "outputs": [
        {
          "output_type": "execute_result",
          "data": {
            "text/plain": [
              "180.7"
            ]
          },
          "metadata": {},
          "execution_count": 133
        }
      ]
    },
    {
      "cell_type": "code",
      "source": [
        "list2"
      ],
      "metadata": {
        "colab": {
          "base_uri": "https://localhost:8080/"
        },
        "id": "8X5XPJK_zXDY",
        "outputId": "47bd81db-42bf-4f80-b690-5b4b855d5d88"
      },
      "execution_count": 134,
      "outputs": [
        {
          "output_type": "execute_result",
          "data": {
            "text/plain": [
              "[2,\n",
              " 5,\n",
              " 17,\n",
              " 18.8,\n",
              " 'python',\n",
              " [12, 65.9, True],\n",
              " 'pyspark',\n",
              " 'sql',\n",
              " 'apple',\n",
              " [15, 17]]"
            ]
          },
          "metadata": {},
          "execution_count": 134
        }
      ]
    },
    {
      "cell_type": "code",
      "source": [
        "list2.pop(-2)"
      ],
      "metadata": {
        "colab": {
          "base_uri": "https://localhost:8080/",
          "height": 36
        },
        "id": "cSuiBlDtzYHB",
        "outputId": "8e67a020-34eb-4114-d6bb-ae8b034b949f"
      },
      "execution_count": 135,
      "outputs": [
        {
          "output_type": "execute_result",
          "data": {
            "text/plain": [
              "'apple'"
            ],
            "application/vnd.google.colaboratory.intrinsic+json": {
              "type": "string"
            }
          },
          "metadata": {},
          "execution_count": 135
        }
      ]
    },
    {
      "cell_type": "code",
      "source": [
        "list2"
      ],
      "metadata": {
        "colab": {
          "base_uri": "https://localhost:8080/"
        },
        "id": "KhJ9SA8nzjla",
        "outputId": "10974e13-c4f4-48e5-c7b1-9e7e51c933d9"
      },
      "execution_count": 136,
      "outputs": [
        {
          "output_type": "execute_result",
          "data": {
            "text/plain": [
              "[2, 5, 17, 18.8, 'python', [12, 65.9, True], 'pyspark', 'sql', [15, 17]]"
            ]
          },
          "metadata": {},
          "execution_count": 136
        }
      ]
    },
    {
      "cell_type": "code",
      "source": [
        "list1=[1,2,8,5,1,6]\n",
        "list2=[4,6,1,8]\n",
        "list3=list1+list2\n",
        "list3"
      ],
      "metadata": {
        "colab": {
          "base_uri": "https://localhost:8080/"
        },
        "id": "3Jihn7Zuzk3l",
        "outputId": "152ff00b-ed2b-48bb-eafa-0d49a9c57ae7"
      },
      "execution_count": 137,
      "outputs": [
        {
          "output_type": "execute_result",
          "data": {
            "text/plain": [
              "[1, 2, 8, 5, 1, 6, 4, 6, 1, 8]"
            ]
          },
          "metadata": {},
          "execution_count": 137
        }
      ]
    },
    {
      "cell_type": "code",
      "source": [
        "list3.sort()"
      ],
      "metadata": {
        "id": "t1bPMd-Pzv9q"
      },
      "execution_count": 138,
      "outputs": []
    },
    {
      "cell_type": "code",
      "source": [
        "list3"
      ],
      "metadata": {
        "colab": {
          "base_uri": "https://localhost:8080/"
        },
        "id": "NdY3Hd6s0DnQ",
        "outputId": "0b14c1ea-93be-4f32-e8eb-057cba9a8fab"
      },
      "execution_count": 139,
      "outputs": [
        {
          "output_type": "execute_result",
          "data": {
            "text/plain": [
              "[1, 1, 1, 2, 4, 5, 6, 6, 8, 8]"
            ]
          },
          "metadata": {},
          "execution_count": 139
        }
      ]
    },
    {
      "cell_type": "code",
      "source": [
        "list3.sort(reverse=True)"
      ],
      "metadata": {
        "id": "LIBsf8zM0Ep5"
      },
      "execution_count": 140,
      "outputs": []
    },
    {
      "cell_type": "code",
      "source": [
        "list3"
      ],
      "metadata": {
        "colab": {
          "base_uri": "https://localhost:8080/"
        },
        "id": "aR7Oxmdu0QBm",
        "outputId": "78aa93b6-03fa-4e05-eb66-93c4d96a4a2c"
      },
      "execution_count": 141,
      "outputs": [
        {
          "output_type": "execute_result",
          "data": {
            "text/plain": [
              "[8, 8, 6, 6, 5, 4, 2, 1, 1, 1]"
            ]
          },
          "metadata": {},
          "execution_count": 141
        }
      ]
    },
    {
      "cell_type": "code",
      "source": [
        "list1=[\"dog\",\"cat\",\"hi\"]\n",
        "list2=[\"happy\",\"good\",\"nice\"]\n",
        "list3=list1+list2\n",
        "list3.sort()"
      ],
      "metadata": {
        "id": "vtTtgK_k0Q5r"
      },
      "execution_count": null,
      "outputs": []
    },
    {
      "cell_type": "code",
      "source": [
        "list1=[\"dog\",\"cat\",\"hi\",1,2,3]\n",
        "list2=[\"happy\",\"good\",\"nice\"]\n",
        "list3=list1+list2\n",
        "list3.sort()"
      ],
      "metadata": {
        "colab": {
          "base_uri": "https://localhost:8080/",
          "height": 180
        },
        "id": "OKwmazLS1MTk",
        "outputId": "65c885cc-7225-45a7-9ff1-12a05dc3c7ef"
      },
      "execution_count": 160,
      "outputs": [
        {
          "output_type": "error",
          "ename": "TypeError",
          "evalue": "'<' not supported between instances of 'int' and 'str'",
          "traceback": [
            "\u001b[0;31m---------------------------------------------------------------------------\u001b[0m",
            "\u001b[0;31mTypeError\u001b[0m                                 Traceback (most recent call last)",
            "\u001b[0;32m/tmp/ipython-input-682018661.py\u001b[0m in \u001b[0;36m<cell line: 0>\u001b[0;34m()\u001b[0m\n\u001b[1;32m      2\u001b[0m \u001b[0mlist2\u001b[0m\u001b[0;34m=\u001b[0m\u001b[0;34m[\u001b[0m\u001b[0;34m\"happy\"\u001b[0m\u001b[0;34m,\u001b[0m\u001b[0;34m\"good\"\u001b[0m\u001b[0;34m,\u001b[0m\u001b[0;34m\"nice\"\u001b[0m\u001b[0;34m]\u001b[0m\u001b[0;34m\u001b[0m\u001b[0;34m\u001b[0m\u001b[0m\n\u001b[1;32m      3\u001b[0m \u001b[0mlist3\u001b[0m\u001b[0;34m=\u001b[0m\u001b[0mlist1\u001b[0m\u001b[0;34m+\u001b[0m\u001b[0mlist2\u001b[0m\u001b[0;34m\u001b[0m\u001b[0;34m\u001b[0m\u001b[0m\n\u001b[0;32m----> 4\u001b[0;31m \u001b[0mlist3\u001b[0m\u001b[0;34m.\u001b[0m\u001b[0msort\u001b[0m\u001b[0;34m(\u001b[0m\u001b[0;34m)\u001b[0m\u001b[0;34m\u001b[0m\u001b[0;34m\u001b[0m\u001b[0m\n\u001b[0m",
            "\u001b[0;31mTypeError\u001b[0m: '<' not supported between instances of 'int' and 'str'"
          ]
        }
      ]
    },
    {
      "cell_type": "code",
      "source": [
        "list3"
      ],
      "metadata": {
        "colab": {
          "base_uri": "https://localhost:8080/"
        },
        "id": "mWsdSnc21PSy",
        "outputId": "ae972aff-a728-44a6-d317-f0034a4aa6a4"
      },
      "execution_count": 143,
      "outputs": [
        {
          "output_type": "execute_result",
          "data": {
            "text/plain": [
              "['cat', 'dog', 'hi', 1, 2, 3, 'happy', 'good', 'nice']"
            ]
          },
          "metadata": {},
          "execution_count": 143
        }
      ]
    },
    {
      "cell_type": "code",
      "source": [
        "list3.reverse()"
      ],
      "metadata": {
        "id": "prhNuMsg1T4g"
      },
      "execution_count": 144,
      "outputs": []
    },
    {
      "cell_type": "code",
      "source": [
        "list3"
      ],
      "metadata": {
        "colab": {
          "base_uri": "https://localhost:8080/"
        },
        "id": "_I7aZ0X71zH7",
        "outputId": "7dbb45a2-40a3-40d3-d3fd-e170acccf559"
      },
      "execution_count": 145,
      "outputs": [
        {
          "output_type": "execute_result",
          "data": {
            "text/plain": [
              "['nice', 'good', 'happy', 3, 2, 1, 'hi', 'dog', 'cat']"
            ]
          },
          "metadata": {},
          "execution_count": 145
        }
      ]
    },
    {
      "cell_type": "code",
      "source": [
        "list3.count(\"o\")"
      ],
      "metadata": {
        "colab": {
          "base_uri": "https://localhost:8080/"
        },
        "id": "EIZ26Frn10AG",
        "outputId": "6126d6c3-0512-4723-df7f-7e6376905077"
      },
      "execution_count": 146,
      "outputs": [
        {
          "output_type": "execute_result",
          "data": {
            "text/plain": [
              "0"
            ]
          },
          "metadata": {},
          "execution_count": 146
        }
      ]
    },
    {
      "cell_type": "code",
      "source": [
        "list3.count(\"cat\")"
      ],
      "metadata": {
        "colab": {
          "base_uri": "https://localhost:8080/"
        },
        "id": "H3ouhj5O2Dds",
        "outputId": "7017a70e-b250-4023-8d75-063d29abc5bc"
      },
      "execution_count": 149,
      "outputs": [
        {
          "output_type": "execute_result",
          "data": {
            "text/plain": [
              "1"
            ]
          },
          "metadata": {},
          "execution_count": 149
        }
      ]
    },
    {
      "cell_type": "code",
      "source": [
        "for i in list3:\n",
        "  print(i)"
      ],
      "metadata": {
        "colab": {
          "base_uri": "https://localhost:8080/"
        },
        "id": "Mfqsn7fU2HXs",
        "outputId": "e0f66b40-9198-4178-ec8f-ba8a70a04ed6"
      },
      "execution_count": 150,
      "outputs": [
        {
          "output_type": "stream",
          "name": "stdout",
          "text": [
            "nice\n",
            "good\n",
            "happy\n",
            "3\n",
            "2\n",
            "1\n",
            "hi\n",
            "dog\n",
            "cat\n"
          ]
        }
      ]
    },
    {
      "cell_type": "markdown",
      "source": [
        "### Assessment-2(10 mins)"
      ],
      "metadata": {
        "id": "vvBxYxWE8o1u"
      }
    },
    {
      "cell_type": "markdown",
      "source": [
        "\n",
        "1.\tCreate a list of five numbers.\n",
        "2.\tHow would you append the number 6 to the list [1, 2, 3, 4, 5]?\n",
        "3.\tHow would you access the third element in the list [\"apple\", \"banana\", \"cherry\", \"date\"]?\n",
        "4.\tRemove the last item from the list [10, 20, 30, 40].\n",
        "5.\tWrite a Python code to sort the list [4, 1, 8, 5, 2] in ascending order.\n",
        "6.\tCreate a list with mixed data types: an integer, a string, and a floating-point number.\n",
        "7.\tUse list slicing to get the first three elements of the list [10, 20, 30, 40, 50].\n",
        "8.\tCount how many times the number 3 appears in the list [1, 3, 3, 5, 7].\n",
        "9.\tWrite a Python code to merge the lists [1, 2] and [3, 4] into one list.\n",
        "10.\tHow would you clear all the items in the list [\"a\", \"b\", \"c\", \"d\"]?"
      ],
      "metadata": {
        "id": "b0N7MTmw8k5k"
      }
    },
    {
      "cell_type": "code",
      "source": [
        "### Mutability\n",
        "list1"
      ],
      "metadata": {
        "colab": {
          "base_uri": "https://localhost:8080/"
        },
        "id": "Lt58BRf42sbW",
        "outputId": "62030f5c-70a9-4a99-d088-b55f4d8306a6"
      },
      "execution_count": 159,
      "outputs": [
        {
          "output_type": "execute_result",
          "data": {
            "text/plain": [
              "['hi', 'hi', 2, 3]"
            ]
          },
          "metadata": {},
          "execution_count": 159
        }
      ]
    },
    {
      "cell_type": "code",
      "source": [
        "list1[0]=\"horse\""
      ],
      "metadata": {
        "id": "20jCyx-8_yb9"
      },
      "execution_count": 153,
      "outputs": []
    },
    {
      "cell_type": "code",
      "source": [
        "list1"
      ],
      "metadata": {
        "colab": {
          "base_uri": "https://localhost:8080/"
        },
        "id": "PVptcvgh_z8e",
        "outputId": "41926dca-89c8-42bc-e784-2de74eb2c1ac"
      },
      "execution_count": 165,
      "outputs": [
        {
          "output_type": "execute_result",
          "data": {
            "text/plain": [
              "['hi', 'hi', 1, 2, 3]"
            ]
          },
          "metadata": {},
          "execution_count": 165
        }
      ]
    },
    {
      "cell_type": "code",
      "source": [
        "list1=[\"dog\",\"cat\",\"hi\",1,2,3]"
      ],
      "metadata": {
        "id": "sA5MQaVhA6bi"
      },
      "execution_count": 166,
      "outputs": []
    },
    {
      "cell_type": "code",
      "source": [
        "list1[:2]=[\"hi\",\"hi\"]"
      ],
      "metadata": {
        "id": "LPNmR7ep_3X6"
      },
      "execution_count": 167,
      "outputs": []
    },
    {
      "cell_type": "code",
      "source": [
        "list1"
      ],
      "metadata": {
        "colab": {
          "base_uri": "https://localhost:8080/"
        },
        "id": "ZO1jG-zXAFJT",
        "outputId": "7f1e26e6-7acf-4ccc-d30e-cc3530fb1d4a"
      },
      "execution_count": 168,
      "outputs": [
        {
          "output_type": "execute_result",
          "data": {
            "text/plain": [
              "['hi', 'hi', 'hi', 1, 2, 3]"
            ]
          },
          "metadata": {},
          "execution_count": 168
        }
      ]
    },
    {
      "cell_type": "code",
      "source": [
        "type(list1)"
      ],
      "metadata": {
        "colab": {
          "base_uri": "https://localhost:8080/"
        },
        "id": "7L8JvyczBL9R",
        "outputId": "47aea539-d307-4006-d0de-f0e91bfe853c"
      },
      "execution_count": 169,
      "outputs": [
        {
          "output_type": "execute_result",
          "data": {
            "text/plain": [
              "list"
            ]
          },
          "metadata": {},
          "execution_count": 169
        }
      ]
    },
    {
      "cell_type": "code",
      "source": [
        "### Tuple\n",
        "tup1=(1,2,3,\"hi\",\"hello\")"
      ],
      "metadata": {
        "id": "6wwIlm09AF8S"
      },
      "execution_count": 170,
      "outputs": []
    },
    {
      "cell_type": "code",
      "source": [
        "type(tup1)"
      ],
      "metadata": {
        "colab": {
          "base_uri": "https://localhost:8080/"
        },
        "id": "uecZ_YUxBSwg",
        "outputId": "95cbdfb8-24c8-489a-c5ec-2de9e9641a8e"
      },
      "execution_count": 171,
      "outputs": [
        {
          "output_type": "execute_result",
          "data": {
            "text/plain": [
              "tuple"
            ]
          },
          "metadata": {},
          "execution_count": 171
        }
      ]
    },
    {
      "cell_type": "code",
      "source": [
        "tup2=1,2,3,\"hi\",\"hello\",3.2"
      ],
      "metadata": {
        "id": "GlToyPc1BUU3"
      },
      "execution_count": 172,
      "outputs": []
    },
    {
      "cell_type": "code",
      "source": [
        "type(tup2)"
      ],
      "metadata": {
        "colab": {
          "base_uri": "https://localhost:8080/"
        },
        "id": "wHRgKKlgBjdT",
        "outputId": "501ac8a0-e8e6-4d74-81c3-a66d8498b740"
      },
      "execution_count": 173,
      "outputs": [
        {
          "output_type": "execute_result",
          "data": {
            "text/plain": [
              "tuple"
            ]
          },
          "metadata": {},
          "execution_count": 173
        }
      ]
    },
    {
      "cell_type": "code",
      "source": [
        "### Heterogenous-> multiple data types\n",
        "### paranthesis or no bracket"
      ],
      "metadata": {
        "id": "2cCoAQ_UBknW"
      },
      "execution_count": null,
      "outputs": []
    },
    {
      "cell_type": "code",
      "source": [
        "tup3 = 1, 2.3, [4, \"Sachin\", \"Pune\"], (5, 6, 9)\n",
        "print(tup3)\n",
        "print(type(tup3))"
      ],
      "metadata": {
        "colab": {
          "base_uri": "https://localhost:8080/"
        },
        "id": "eS4mLGFgCSqU",
        "outputId": "e295d6e8-ac33-4214-818f-686a535f0dbe"
      },
      "execution_count": 175,
      "outputs": [
        {
          "output_type": "stream",
          "name": "stdout",
          "text": [
            "(1, 2.3, [4, 'Sachin', 'Pune'], (5, 6, 9))\n",
            "<class 'tuple'>\n"
          ]
        }
      ]
    },
    {
      "cell_type": "code",
      "source": [
        "### e.g indexing,slicing,sort,leng,count,reverse,mutability"
      ],
      "metadata": {
        "id": "qTOwbzTVCX8y"
      },
      "execution_count": null,
      "outputs": []
    },
    {
      "cell_type": "code",
      "source": [
        "tup3[3]"
      ],
      "metadata": {
        "colab": {
          "base_uri": "https://localhost:8080/"
        },
        "id": "Q3hhMaR2DydQ",
        "outputId": "6a8b9c87-3cc3-4bbe-cbdf-714c41fdfb10"
      },
      "execution_count": 176,
      "outputs": [
        {
          "output_type": "execute_result",
          "data": {
            "text/plain": [
              "(5, 6, 9)"
            ]
          },
          "metadata": {},
          "execution_count": 176
        }
      ]
    },
    {
      "cell_type": "code",
      "source": [
        "len(tup3)"
      ],
      "metadata": {
        "colab": {
          "base_uri": "https://localhost:8080/"
        },
        "id": "VL0galr7D4dh",
        "outputId": "7d1728e9-e99b-4648-eef5-6ecf8bf52f93"
      },
      "execution_count": 177,
      "outputs": [
        {
          "output_type": "execute_result",
          "data": {
            "text/plain": [
              "4"
            ]
          },
          "metadata": {},
          "execution_count": 177
        }
      ]
    },
    {
      "cell_type": "code",
      "source": [
        "tup3.count(\"Sachin\")"
      ],
      "metadata": {
        "colab": {
          "base_uri": "https://localhost:8080/"
        },
        "id": "vS7-1QiCD9jq",
        "outputId": "3cafd895-d5dd-4906-fa76-26b108807f56"
      },
      "execution_count": 180,
      "outputs": [
        {
          "output_type": "execute_result",
          "data": {
            "text/plain": [
              "0"
            ]
          },
          "metadata": {},
          "execution_count": 180
        }
      ]
    },
    {
      "cell_type": "code",
      "source": [
        "tup3.count(2.3)"
      ],
      "metadata": {
        "colab": {
          "base_uri": "https://localhost:8080/"
        },
        "id": "VEc4-6UNECwu",
        "outputId": "8c2b017d-0f5c-4ed9-b754-24763fc8157f"
      },
      "execution_count": 181,
      "outputs": [
        {
          "output_type": "execute_result",
          "data": {
            "text/plain": [
              "1"
            ]
          },
          "metadata": {},
          "execution_count": 181
        }
      ]
    },
    {
      "cell_type": "code",
      "source": [
        "tup3[0:2]"
      ],
      "metadata": {
        "colab": {
          "base_uri": "https://localhost:8080/"
        },
        "id": "Dx6El4qwEOI5",
        "outputId": "fc0245ed-4b18-4931-91f4-c8bcbb83b19e"
      },
      "execution_count": 182,
      "outputs": [
        {
          "output_type": "execute_result",
          "data": {
            "text/plain": [
              "(1, 2.3)"
            ]
          },
          "metadata": {},
          "execution_count": 182
        }
      ]
    },
    {
      "cell_type": "code",
      "source": [
        "tup3[0]=2.76"
      ],
      "metadata": {
        "colab": {
          "base_uri": "https://localhost:8080/",
          "height": 144
        },
        "id": "K_8F_KGZESe7",
        "outputId": "cebcb8ca-67b0-4dd5-d21f-78a74a423c0c"
      },
      "execution_count": 183,
      "outputs": [
        {
          "output_type": "error",
          "ename": "TypeError",
          "evalue": "'tuple' object does not support item assignment",
          "traceback": [
            "\u001b[0;31m---------------------------------------------------------------------------\u001b[0m",
            "\u001b[0;31mTypeError\u001b[0m                                 Traceback (most recent call last)",
            "\u001b[0;32m/tmp/ipython-input-826174982.py\u001b[0m in \u001b[0;36m<cell line: 0>\u001b[0;34m()\u001b[0m\n\u001b[0;32m----> 1\u001b[0;31m \u001b[0mtup3\u001b[0m\u001b[0;34m[\u001b[0m\u001b[0;36m0\u001b[0m\u001b[0;34m]\u001b[0m\u001b[0;34m=\u001b[0m\u001b[0;36m2.76\u001b[0m\u001b[0;34m\u001b[0m\u001b[0;34m\u001b[0m\u001b[0m\n\u001b[0m",
            "\u001b[0;31mTypeError\u001b[0m: 'tuple' object does not support item assignment"
          ]
        }
      ]
    },
    {
      "cell_type": "code",
      "source": [
        "### Tuple is immutable"
      ],
      "metadata": {
        "id": "uniHW7eREVmo"
      },
      "execution_count": null,
      "outputs": []
    },
    {
      "cell_type": "code",
      "source": [
        "tup3.sort()"
      ],
      "metadata": {
        "colab": {
          "base_uri": "https://localhost:8080/",
          "height": 144
        },
        "id": "jOMRUnltEbdd",
        "outputId": "78d57eae-5063-4c0d-9217-fabe7c390d8f"
      },
      "execution_count": 184,
      "outputs": [
        {
          "output_type": "error",
          "ename": "AttributeError",
          "evalue": "'tuple' object has no attribute 'sort'",
          "traceback": [
            "\u001b[0;31m---------------------------------------------------------------------------\u001b[0m",
            "\u001b[0;31mAttributeError\u001b[0m                            Traceback (most recent call last)",
            "\u001b[0;32m/tmp/ipython-input-83625544.py\u001b[0m in \u001b[0;36m<cell line: 0>\u001b[0;34m()\u001b[0m\n\u001b[0;32m----> 1\u001b[0;31m \u001b[0mtup3\u001b[0m\u001b[0;34m.\u001b[0m\u001b[0msort\u001b[0m\u001b[0;34m(\u001b[0m\u001b[0;34m)\u001b[0m\u001b[0;34m\u001b[0m\u001b[0;34m\u001b[0m\u001b[0m\n\u001b[0m",
            "\u001b[0;31mAttributeError\u001b[0m: 'tuple' object has no attribute 'sort'"
          ]
        }
      ]
    },
    {
      "cell_type": "code",
      "source": [
        "tup3=(4,8.7,13,13,11)"
      ],
      "metadata": {
        "id": "AN2J3lhiFXsr"
      },
      "execution_count": 188,
      "outputs": []
    },
    {
      "cell_type": "code",
      "source": [
        "list_n=list(tup3)"
      ],
      "metadata": {
        "id": "k4IHzLV9EfKH"
      },
      "execution_count": 189,
      "outputs": []
    },
    {
      "cell_type": "code",
      "source": [
        "list_n"
      ],
      "metadata": {
        "colab": {
          "base_uri": "https://localhost:8080/"
        },
        "id": "7ijmHmS9FOPO",
        "outputId": "1d129993-c642-4a6c-dada-a659bbd9f945"
      },
      "execution_count": 190,
      "outputs": [
        {
          "output_type": "execute_result",
          "data": {
            "text/plain": [
              "[4, 8.7, 13, 13, 11]"
            ]
          },
          "metadata": {},
          "execution_count": 190
        }
      ]
    },
    {
      "cell_type": "code",
      "source": [
        "list_n.sort()"
      ],
      "metadata": {
        "id": "hTs9zbZLFP4D"
      },
      "execution_count": 191,
      "outputs": []
    },
    {
      "cell_type": "code",
      "source": [
        "list_n"
      ],
      "metadata": {
        "colab": {
          "base_uri": "https://localhost:8080/"
        },
        "id": "aEJlyAjdFTzD",
        "outputId": "427ba65a-88b1-4ad7-bc5e-b17cd6f6ad0e"
      },
      "execution_count": 192,
      "outputs": [
        {
          "output_type": "execute_result",
          "data": {
            "text/plain": [
              "[4, 8.7, 11, 13, 13]"
            ]
          },
          "metadata": {},
          "execution_count": 192
        }
      ]
    },
    {
      "cell_type": "code",
      "source": [
        "list_n.remove(13)"
      ],
      "metadata": {
        "id": "80PThSaRFj3W"
      },
      "execution_count": 193,
      "outputs": []
    },
    {
      "cell_type": "code",
      "source": [
        "list_n"
      ],
      "metadata": {
        "colab": {
          "base_uri": "https://localhost:8080/"
        },
        "id": "4ekIhfICFpUG",
        "outputId": "9cdda0f7-53b6-4e6d-9c04-d87db08858ae"
      },
      "execution_count": 194,
      "outputs": [
        {
          "output_type": "execute_result",
          "data": {
            "text/plain": [
              "[4, 8.7, 11, 13]"
            ]
          },
          "metadata": {},
          "execution_count": 194
        }
      ]
    },
    {
      "cell_type": "code",
      "source": [
        "tup3"
      ],
      "metadata": {
        "colab": {
          "base_uri": "https://localhost:8080/"
        },
        "id": "S5U0VN5SFqeV",
        "outputId": "c427d1b7-5e00-41ea-a28e-b89d45f9cb25"
      },
      "execution_count": 195,
      "outputs": [
        {
          "output_type": "execute_result",
          "data": {
            "text/plain": [
              "(4, 8.7, 13, 13, 11)"
            ]
          },
          "metadata": {},
          "execution_count": 195
        }
      ]
    },
    {
      "cell_type": "code",
      "source": [
        "tup3.remove(13)"
      ],
      "metadata": {
        "colab": {
          "base_uri": "https://localhost:8080/",
          "height": 144
        },
        "id": "1UX7pI9xFsIB",
        "outputId": "d6ae9d2e-3cda-4c70-dc4e-44d228892d9e"
      },
      "execution_count": 196,
      "outputs": [
        {
          "output_type": "error",
          "ename": "AttributeError",
          "evalue": "'tuple' object has no attribute 'remove'",
          "traceback": [
            "\u001b[0;31m---------------------------------------------------------------------------\u001b[0m",
            "\u001b[0;31mAttributeError\u001b[0m                            Traceback (most recent call last)",
            "\u001b[0;32m/tmp/ipython-input-4086434995.py\u001b[0m in \u001b[0;36m<cell line: 0>\u001b[0;34m()\u001b[0m\n\u001b[0;32m----> 1\u001b[0;31m \u001b[0mtup3\u001b[0m\u001b[0;34m.\u001b[0m\u001b[0mremove\u001b[0m\u001b[0;34m(\u001b[0m\u001b[0;36m13\u001b[0m\u001b[0;34m)\u001b[0m\u001b[0;34m\u001b[0m\u001b[0;34m\u001b[0m\u001b[0m\n\u001b[0m",
            "\u001b[0;31mAttributeError\u001b[0m: 'tuple' object has no attribute 'remove'"
          ]
        }
      ]
    },
    {
      "cell_type": "code",
      "source": [
        "### create two tuples and try to add the tuples"
      ],
      "metadata": {
        "id": "VTbFn5k_Fu7T"
      },
      "execution_count": null,
      "outputs": []
    },
    {
      "cell_type": "code",
      "source": [
        "for i in tup3:\n",
        "  print(i)"
      ],
      "metadata": {
        "colab": {
          "base_uri": "https://localhost:8080/"
        },
        "id": "qoxvPwSTGOfM",
        "outputId": "3ebdd5b2-beb3-420e-8837-716c193155b5"
      },
      "execution_count": 197,
      "outputs": [
        {
          "output_type": "stream",
          "name": "stdout",
          "text": [
            "4\n",
            "8.7\n",
            "13\n",
            "13\n",
            "11\n"
          ]
        }
      ]
    },
    {
      "cell_type": "code",
      "source": [
        "4 in tup3"
      ],
      "metadata": {
        "colab": {
          "base_uri": "https://localhost:8080/"
        },
        "id": "Ow0u_VUyGRiw",
        "outputId": "80c87997-fc45-41bd-b725-fbb326230ef8"
      },
      "execution_count": 198,
      "outputs": [
        {
          "output_type": "execute_result",
          "data": {
            "text/plain": [
              "True"
            ]
          },
          "metadata": {},
          "execution_count": 198
        }
      ]
    },
    {
      "cell_type": "code",
      "source": [
        "if 4 in tup3:\n",
        "  print(\"Yes,it exists\")\n",
        "else:\n",
        "  print(\"sorry,it doesn't exist\")"
      ],
      "metadata": {
        "colab": {
          "base_uri": "https://localhost:8080/"
        },
        "id": "fFUWsG8xGWcS",
        "outputId": "4b0d24fd-242d-4520-deb0-696cf37d34fc"
      },
      "execution_count": 199,
      "outputs": [
        {
          "output_type": "stream",
          "name": "stdout",
          "text": [
            "Yes,it exists\n"
          ]
        }
      ]
    },
    {
      "cell_type": "code",
      "source": [
        "### Dictionary\n",
        "student={\"name\":\"john\",\"age\":21,\"courses\":[\"ai\",\"python\"]}\n",
        "student"
      ],
      "metadata": {
        "colab": {
          "base_uri": "https://localhost:8080/"
        },
        "id": "fdWc7x-vGlbm",
        "outputId": "6db2a67b-ca96-4647-ed71-511af60ac91a"
      },
      "execution_count": 215,
      "outputs": [
        {
          "output_type": "execute_result",
          "data": {
            "text/plain": [
              "{'name': 'john', 'age': 21, 'courses': ['ai', 'python']}"
            ]
          },
          "metadata": {},
          "execution_count": 215
        }
      ]
    },
    {
      "cell_type": "code",
      "source": [
        "student[0]"
      ],
      "metadata": {
        "colab": {
          "base_uri": "https://localhost:8080/",
          "height": 144
        },
        "id": "y2OQwl5KHLqu",
        "outputId": "c99abd84-5b59-4c36-cfdd-dd8b55dec1fe"
      },
      "execution_count": 201,
      "outputs": [
        {
          "output_type": "error",
          "ename": "KeyError",
          "evalue": "0",
          "traceback": [
            "\u001b[0;31m---------------------------------------------------------------------------\u001b[0m",
            "\u001b[0;31mKeyError\u001b[0m                                  Traceback (most recent call last)",
            "\u001b[0;32m/tmp/ipython-input-3657199547.py\u001b[0m in \u001b[0;36m<cell line: 0>\u001b[0;34m()\u001b[0m\n\u001b[0;32m----> 1\u001b[0;31m \u001b[0mstudent\u001b[0m\u001b[0;34m[\u001b[0m\u001b[0;36m0\u001b[0m\u001b[0;34m]\u001b[0m\u001b[0;34m\u001b[0m\u001b[0;34m\u001b[0m\u001b[0m\n\u001b[0m",
            "\u001b[0;31mKeyError\u001b[0m: 0"
          ]
        }
      ]
    },
    {
      "cell_type": "code",
      "source": [
        "student[\"courses\"]"
      ],
      "metadata": {
        "colab": {
          "base_uri": "https://localhost:8080/"
        },
        "id": "AXzP80cuHpgr",
        "outputId": "4407bedd-6e69-4cc9-88ac-f9cf9d1866c6"
      },
      "execution_count": 202,
      "outputs": [
        {
          "output_type": "execute_result",
          "data": {
            "text/plain": [
              "['ai', 'python']"
            ]
          },
          "metadata": {},
          "execution_count": 202
        }
      ]
    },
    {
      "cell_type": "code",
      "source": [
        "student[\"john\"]"
      ],
      "metadata": {
        "colab": {
          "base_uri": "https://localhost:8080/",
          "height": 144
        },
        "id": "y_5NpfT-HzZi",
        "outputId": "2334cc0e-6041-48ce-a30a-d91d5bdfd945"
      },
      "execution_count": 203,
      "outputs": [
        {
          "output_type": "error",
          "ename": "KeyError",
          "evalue": "'john'",
          "traceback": [
            "\u001b[0;31m---------------------------------------------------------------------------\u001b[0m",
            "\u001b[0;31mKeyError\u001b[0m                                  Traceback (most recent call last)",
            "\u001b[0;32m/tmp/ipython-input-1789667795.py\u001b[0m in \u001b[0;36m<cell line: 0>\u001b[0;34m()\u001b[0m\n\u001b[0;32m----> 1\u001b[0;31m \u001b[0mstudent\u001b[0m\u001b[0;34m[\u001b[0m\u001b[0;34m\"john\"\u001b[0m\u001b[0;34m]\u001b[0m\u001b[0;34m\u001b[0m\u001b[0;34m\u001b[0m\u001b[0m\n\u001b[0m",
            "\u001b[0;31mKeyError\u001b[0m: 'john'"
          ]
        }
      ]
    },
    {
      "cell_type": "code",
      "source": [
        "student.keys()"
      ],
      "metadata": {
        "colab": {
          "base_uri": "https://localhost:8080/"
        },
        "id": "q1ark5q9H-Z5",
        "outputId": "06ea897d-b1ff-44b8-968d-fe5892d302dd"
      },
      "execution_count": 204,
      "outputs": [
        {
          "output_type": "execute_result",
          "data": {
            "text/plain": [
              "dict_keys(['name', 'age', 'courses'])"
            ]
          },
          "metadata": {},
          "execution_count": 204
        }
      ]
    },
    {
      "cell_type": "code",
      "source": [
        "student.values()"
      ],
      "metadata": {
        "colab": {
          "base_uri": "https://localhost:8080/"
        },
        "id": "zeZ2c_M7YJZh",
        "outputId": "b9d4e0c9-46a6-4632-e548-7ade6be6cddb"
      },
      "execution_count": 205,
      "outputs": [
        {
          "output_type": "execute_result",
          "data": {
            "text/plain": [
              "dict_values(['john', 21, ['ai', 'python']])"
            ]
          },
          "metadata": {},
          "execution_count": 205
        }
      ]
    },
    {
      "cell_type": "code",
      "source": [
        "student.items()"
      ],
      "metadata": {
        "colab": {
          "base_uri": "https://localhost:8080/"
        },
        "id": "ck_W2rYYYS9s",
        "outputId": "e423cfca-a727-4161-f6f1-d942253ab143"
      },
      "execution_count": 206,
      "outputs": [
        {
          "output_type": "execute_result",
          "data": {
            "text/plain": [
              "dict_items([('name', 'john'), ('age', 21), ('courses', ['ai', 'python'])])"
            ]
          },
          "metadata": {},
          "execution_count": 206
        }
      ]
    },
    {
      "cell_type": "code",
      "source": [
        "student[\"email\"]=\"john@hotmail.com\""
      ],
      "metadata": {
        "id": "2l8hhRllZEnb"
      },
      "execution_count": 208,
      "outputs": []
    },
    {
      "cell_type": "code",
      "source": [
        "student"
      ],
      "metadata": {
        "colab": {
          "base_uri": "https://localhost:8080/"
        },
        "id": "qrgKoZDAZlaP",
        "outputId": "49c173f7-fd8a-41e6-a70c-ad1d870b8be2"
      },
      "execution_count": 209,
      "outputs": [
        {
          "output_type": "execute_result",
          "data": {
            "text/plain": [
              "{'name': 'john',\n",
              " 'age': 21,\n",
              " 'courses': ['ai', 'python'],\n",
              " 'email': 'john@hotmail.com'}"
            ]
          },
          "metadata": {},
          "execution_count": 209
        }
      ]
    },
    {
      "cell_type": "code",
      "source": [
        "del student[\"email\"]"
      ],
      "metadata": {
        "id": "QetTS8AfZnSJ"
      },
      "execution_count": 210,
      "outputs": []
    },
    {
      "cell_type": "code",
      "source": [
        "student"
      ],
      "metadata": {
        "colab": {
          "base_uri": "https://localhost:8080/"
        },
        "id": "iTgYmXI0Z5qS",
        "outputId": "a0c21c9e-023b-4d92-b96e-5778755805a2"
      },
      "execution_count": 211,
      "outputs": [
        {
          "output_type": "execute_result",
          "data": {
            "text/plain": [
              "{'name': 'john', 'age': 21, 'courses': ['ai', 'python']}"
            ]
          },
          "metadata": {},
          "execution_count": 211
        }
      ]
    },
    {
      "cell_type": "code",
      "source": [
        "student.pop(\"courses\")"
      ],
      "metadata": {
        "colab": {
          "base_uri": "https://localhost:8080/"
        },
        "id": "Ws5gwZFHZ7bN",
        "outputId": "406e03cc-f126-44d2-a873-5769ab9ee6b3"
      },
      "execution_count": 212,
      "outputs": [
        {
          "output_type": "execute_result",
          "data": {
            "text/plain": [
              "['ai', 'python']"
            ]
          },
          "metadata": {},
          "execution_count": 212
        }
      ]
    },
    {
      "cell_type": "code",
      "source": [
        "student"
      ],
      "metadata": {
        "colab": {
          "base_uri": "https://localhost:8080/"
        },
        "id": "2dJq2DlxaDSs",
        "outputId": "ae5085f8-698d-4f71-e1eb-9bca30d5c8d9"
      },
      "execution_count": 213,
      "outputs": [
        {
          "output_type": "execute_result",
          "data": {
            "text/plain": [
              "{'name': 'john', 'age': 21}"
            ]
          },
          "metadata": {},
          "execution_count": 213
        }
      ]
    },
    {
      "cell_type": "code",
      "source": [
        "student[\"courses\"].append(\"pyspark\")"
      ],
      "metadata": {
        "id": "-iAfInmRaFeB"
      },
      "execution_count": 216,
      "outputs": []
    },
    {
      "cell_type": "code",
      "source": [
        "student"
      ],
      "metadata": {
        "colab": {
          "base_uri": "https://localhost:8080/"
        },
        "id": "XiAtb2g8a_Eu",
        "outputId": "af005bb6-8086-4dca-d7a3-7113ba8035d6"
      },
      "execution_count": 217,
      "outputs": [
        {
          "output_type": "execute_result",
          "data": {
            "text/plain": [
              "{'name': 'john', 'age': 21, 'courses': ['ai', 'python', 'pyspark']}"
            ]
          },
          "metadata": {},
          "execution_count": 217
        }
      ]
    },
    {
      "cell_type": "code",
      "source": [
        "student[\"name\"]=[\"Latha\",\"Prema\"]"
      ],
      "metadata": {
        "id": "6MObgEFubU18"
      },
      "execution_count": 218,
      "outputs": []
    },
    {
      "cell_type": "code",
      "source": [
        "student"
      ],
      "metadata": {
        "colab": {
          "base_uri": "https://localhost:8080/"
        },
        "id": "wzD6ygpsb6Yo",
        "outputId": "f1c28fb2-3038-486c-9f04-1c84e1f81a32"
      },
      "execution_count": 219,
      "outputs": [
        {
          "output_type": "execute_result",
          "data": {
            "text/plain": [
              "{'name': ['Latha', 'Prema'], 'age': 21, 'courses': ['ai', 'python', 'pyspark']}"
            ]
          },
          "metadata": {},
          "execution_count": 219
        }
      ]
    },
    {
      "cell_type": "code",
      "source": [
        "student[\"name\"].append(\"John\")"
      ],
      "metadata": {
        "id": "qcZ7PMqyb7hg"
      },
      "execution_count": 220,
      "outputs": []
    },
    {
      "cell_type": "code",
      "source": [
        "student"
      ],
      "metadata": {
        "colab": {
          "base_uri": "https://localhost:8080/"
        },
        "id": "-7mNzWPncyvR",
        "outputId": "a0e8b431-0f6b-40eb-dcfa-6f14e8f55338"
      },
      "execution_count": 221,
      "outputs": [
        {
          "output_type": "execute_result",
          "data": {
            "text/plain": [
              "{'name': ['Latha', 'Prema', 'John'],\n",
              " 'age': 21,\n",
              " 'courses': ['ai', 'python', 'pyspark']}"
            ]
          },
          "metadata": {},
          "execution_count": 221
        }
      ]
    },
    {
      "cell_type": "code",
      "source": [
        "student[\"name\"].extend([\"A\",\"B\"])"
      ],
      "metadata": {
        "id": "NXn9dPjEcz0l"
      },
      "execution_count": 222,
      "outputs": []
    },
    {
      "cell_type": "code",
      "source": [
        "### Set"
      ],
      "metadata": {
        "id": "lA2nhrvleB8W"
      },
      "execution_count": null,
      "outputs": []
    },
    {
      "cell_type": "code",
      "source": [
        "myset={1,5,2,8,98,99,981,12.4,51.9,5.9,120,981,99}\n",
        "myset"
      ],
      "metadata": {
        "colab": {
          "base_uri": "https://localhost:8080/"
        },
        "id": "D1JWsnZGeSIy",
        "outputId": "0f1d5521-9b68-42d0-f080-b61d8d92b3b2"
      },
      "execution_count": 236,
      "outputs": [
        {
          "output_type": "execute_result",
          "data": {
            "text/plain": [
              "{1, 2, 5, 5.9, 8, 12.4, 51.9, 98, 99, 120, 981}"
            ]
          },
          "metadata": {},
          "execution_count": 236
        }
      ]
    },
    {
      "cell_type": "code",
      "source": [
        "myset={\"ml\",1,5,2,8,98,99,981,12.4,51.9,5.9,120,\"hello\",\"ai\",\"python\"}\n",
        "myset"
      ],
      "metadata": {
        "colab": {
          "base_uri": "https://localhost:8080/"
        },
        "id": "Y_l9S5MgecDQ",
        "outputId": "55da89d1-69b5-4cf6-e66c-d3366ce5f810"
      },
      "execution_count": 228,
      "outputs": [
        {
          "output_type": "execute_result",
          "data": {
            "text/plain": [
              "{1, 12.4, 120, 2, 5, 5.9, 51.9, 8, 98, 981, 99, 'ai', 'hello', 'ml', 'python'}"
            ]
          },
          "metadata": {},
          "execution_count": 228
        }
      ]
    },
    {
      "cell_type": "code",
      "source": [
        "myset[0]"
      ],
      "metadata": {
        "colab": {
          "base_uri": "https://localhost:8080/",
          "height": 144
        },
        "id": "ANUt9VJTfWxF",
        "outputId": "d6d29795-c714-4405-e344-b404bf9b7225"
      },
      "execution_count": 229,
      "outputs": [
        {
          "output_type": "error",
          "ename": "TypeError",
          "evalue": "'set' object is not subscriptable",
          "traceback": [
            "\u001b[0;31m---------------------------------------------------------------------------\u001b[0m",
            "\u001b[0;31mTypeError\u001b[0m                                 Traceback (most recent call last)",
            "\u001b[0;32m/tmp/ipython-input-435093538.py\u001b[0m in \u001b[0;36m<cell line: 0>\u001b[0;34m()\u001b[0m\n\u001b[0;32m----> 1\u001b[0;31m \u001b[0mmyset\u001b[0m\u001b[0;34m[\u001b[0m\u001b[0;36m0\u001b[0m\u001b[0;34m]\u001b[0m\u001b[0;34m\u001b[0m\u001b[0;34m\u001b[0m\u001b[0m\n\u001b[0m",
            "\u001b[0;31mTypeError\u001b[0m: 'set' object is not subscriptable"
          ]
        }
      ]
    },
    {
      "cell_type": "code",
      "source": [
        "myset[0:6]"
      ],
      "metadata": {
        "colab": {
          "base_uri": "https://localhost:8080/",
          "height": 144
        },
        "id": "gC8Z9f2xf8kR",
        "outputId": "3aea0836-c207-4df7-8416-6d1808653f82"
      },
      "execution_count": 230,
      "outputs": [
        {
          "output_type": "error",
          "ename": "TypeError",
          "evalue": "'set' object is not subscriptable",
          "traceback": [
            "\u001b[0;31m---------------------------------------------------------------------------\u001b[0m",
            "\u001b[0;31mTypeError\u001b[0m                                 Traceback (most recent call last)",
            "\u001b[0;32m/tmp/ipython-input-1458352027.py\u001b[0m in \u001b[0;36m<cell line: 0>\u001b[0;34m()\u001b[0m\n\u001b[0;32m----> 1\u001b[0;31m \u001b[0mmyset\u001b[0m\u001b[0;34m[\u001b[0m\u001b[0;36m0\u001b[0m\u001b[0;34m:\u001b[0m\u001b[0;36m6\u001b[0m\u001b[0;34m]\u001b[0m\u001b[0;34m\u001b[0m\u001b[0;34m\u001b[0m\u001b[0m\n\u001b[0m",
            "\u001b[0;31mTypeError\u001b[0m: 'set' object is not subscriptable"
          ]
        }
      ]
    },
    {
      "cell_type": "code",
      "source": [
        "myset.append(1)"
      ],
      "metadata": {
        "colab": {
          "base_uri": "https://localhost:8080/",
          "height": 144
        },
        "id": "-t_VopxXgBW6",
        "outputId": "844a12be-6f9a-46f6-ee73-dbec63c7f003"
      },
      "execution_count": 231,
      "outputs": [
        {
          "output_type": "error",
          "ename": "AttributeError",
          "evalue": "'set' object has no attribute 'append'",
          "traceback": [
            "\u001b[0;31m---------------------------------------------------------------------------\u001b[0m",
            "\u001b[0;31mAttributeError\u001b[0m                            Traceback (most recent call last)",
            "\u001b[0;32m/tmp/ipython-input-500346452.py\u001b[0m in \u001b[0;36m<cell line: 0>\u001b[0;34m()\u001b[0m\n\u001b[0;32m----> 1\u001b[0;31m \u001b[0mmyset\u001b[0m\u001b[0;34m.\u001b[0m\u001b[0mappend\u001b[0m\u001b[0;34m(\u001b[0m\u001b[0;36m1\u001b[0m\u001b[0;34m)\u001b[0m\u001b[0;34m\u001b[0m\u001b[0;34m\u001b[0m\u001b[0m\n\u001b[0m",
            "\u001b[0;31mAttributeError\u001b[0m: 'set' object has no attribute 'append'"
          ]
        }
      ]
    },
    {
      "cell_type": "code",
      "source": [
        "myset.add(1)"
      ],
      "metadata": {
        "id": "1fLM4KqogMK4"
      },
      "execution_count": 232,
      "outputs": []
    },
    {
      "cell_type": "code",
      "source": [
        "myset"
      ],
      "metadata": {
        "colab": {
          "base_uri": "https://localhost:8080/"
        },
        "id": "NQfzRKPogQ0P",
        "outputId": "e8309bd6-64b5-41ff-ea08-0966784da49e"
      },
      "execution_count": 233,
      "outputs": [
        {
          "output_type": "execute_result",
          "data": {
            "text/plain": [
              "{1, 12.4, 120, 2, 5, 5.9, 51.9, 8, 98, 981, 99, 'ai', 'hello', 'ml', 'python'}"
            ]
          },
          "metadata": {},
          "execution_count": 233
        }
      ]
    },
    {
      "cell_type": "code",
      "source": [
        "myset.add(100)"
      ],
      "metadata": {
        "id": "Vge-Jh-OgSUT"
      },
      "execution_count": 234,
      "outputs": []
    },
    {
      "cell_type": "code",
      "source": [
        "myset"
      ],
      "metadata": {
        "colab": {
          "base_uri": "https://localhost:8080/"
        },
        "id": "ljkZRthRgYpR",
        "outputId": "4224a24c-97e5-4ed4-86b8-a354ae4413cf"
      },
      "execution_count": 235,
      "outputs": [
        {
          "output_type": "execute_result",
          "data": {
            "text/plain": [
              "{1,\n",
              " 100,\n",
              " 12.4,\n",
              " 120,\n",
              " 2,\n",
              " 5,\n",
              " 5.9,\n",
              " 51.9,\n",
              " 8,\n",
              " 98,\n",
              " 981,\n",
              " 99,\n",
              " 'ai',\n",
              " 'hello',\n",
              " 'ml',\n",
              " 'python'}"
            ]
          },
          "metadata": {},
          "execution_count": 235
        }
      ]
    },
    {
      "cell_type": "code",
      "source": [
        "### It doesnot allow duplicates\n",
        "### Set has {}\n",
        "###  Ordered according to first digit"
      ],
      "metadata": {
        "id": "Ot_06RF2gZiB"
      },
      "execution_count": null,
      "outputs": []
    },
    {
      "cell_type": "code",
      "source": [
        "len(myset)"
      ],
      "metadata": {
        "colab": {
          "base_uri": "https://localhost:8080/"
        },
        "id": "OIN5T9rJg4dQ",
        "outputId": "598b36f8-cece-440d-ebdf-d445ca3b2161"
      },
      "execution_count": 237,
      "outputs": [
        {
          "output_type": "execute_result",
          "data": {
            "text/plain": [
              "11"
            ]
          },
          "metadata": {},
          "execution_count": 237
        }
      ]
    },
    {
      "cell_type": "code",
      "source": [
        "myset.count(1)"
      ],
      "metadata": {
        "colab": {
          "base_uri": "https://localhost:8080/",
          "height": 144
        },
        "id": "g8uKz3uohExx",
        "outputId": "728d4665-964d-434a-8332-934669df6196"
      },
      "execution_count": 238,
      "outputs": [
        {
          "output_type": "error",
          "ename": "AttributeError",
          "evalue": "'set' object has no attribute 'count'",
          "traceback": [
            "\u001b[0;31m---------------------------------------------------------------------------\u001b[0m",
            "\u001b[0;31mAttributeError\u001b[0m                            Traceback (most recent call last)",
            "\u001b[0;32m/tmp/ipython-input-2116938578.py\u001b[0m in \u001b[0;36m<cell line: 0>\u001b[0;34m()\u001b[0m\n\u001b[0;32m----> 1\u001b[0;31m \u001b[0mmyset\u001b[0m\u001b[0;34m.\u001b[0m\u001b[0mcount\u001b[0m\u001b[0;34m(\u001b[0m\u001b[0;36m1\u001b[0m\u001b[0;34m)\u001b[0m\u001b[0;34m\u001b[0m\u001b[0;34m\u001b[0m\u001b[0m\n\u001b[0m",
            "\u001b[0;31mAttributeError\u001b[0m: 'set' object has no attribute 'count'"
          ]
        }
      ]
    },
    {
      "cell_type": "code",
      "source": [
        "### create two sets fruits,veg\n",
        "fruits={\"Apple\",\"Orange\",\"Banana\",\"Tomato\"}\n",
        "veg={\"carrot\",\"Mango\",\"Tomato\"}"
      ],
      "metadata": {
        "id": "ABzDaDILhHsK"
      },
      "execution_count": 239,
      "outputs": []
    },
    {
      "cell_type": "code",
      "source": [
        "fruits.difference(veg)"
      ],
      "metadata": {
        "colab": {
          "base_uri": "https://localhost:8080/"
        },
        "id": "1Tmt7Y0yhb_I",
        "outputId": "3e6b35ed-cebb-41bd-c06a-a5b795af6456"
      },
      "execution_count": 240,
      "outputs": [
        {
          "output_type": "execute_result",
          "data": {
            "text/plain": [
              "{'Apple', 'Banana', 'Orange'}"
            ]
          },
          "metadata": {},
          "execution_count": 240
        }
      ]
    },
    {
      "cell_type": "code",
      "source": [
        "## Try for intersection and union"
      ],
      "metadata": {
        "id": "tndylTeOh4M4"
      },
      "execution_count": null,
      "outputs": []
    },
    {
      "cell_type": "code",
      "source": [
        "print(\"Hello\")"
      ],
      "metadata": {
        "colab": {
          "base_uri": "https://localhost:8080/"
        },
        "id": "94l9MdUsigwN",
        "outputId": "55d507d7-7744-45f2-b539-89859ad0a75e"
      },
      "execution_count": 241,
      "outputs": [
        {
          "output_type": "stream",
          "name": "stdout",
          "text": [
            "Hello\n"
          ]
        }
      ]
    },
    {
      "cell_type": "code",
      "source": [
        "text=\"Hello\"\n",
        "len(text)"
      ],
      "metadata": {
        "colab": {
          "base_uri": "https://localhost:8080/"
        },
        "id": "1OHfSADriiyF",
        "outputId": "51ae5f86-7227-4026-f7ce-c1d6b9dbc42f"
      },
      "execution_count": 242,
      "outputs": [
        {
          "output_type": "execute_result",
          "data": {
            "text/plain": [
              "5"
            ]
          },
          "metadata": {},
          "execution_count": 242
        }
      ]
    },
    {
      "cell_type": "code",
      "source": [
        "numbers=[1,8,5,2,71]\n",
        "max(numbers)"
      ],
      "metadata": {
        "colab": {
          "base_uri": "https://localhost:8080/"
        },
        "id": "ZGTuG7KuinZ_",
        "outputId": "b60986a1-209a-4584-ccf3-7d4235b798bf"
      },
      "execution_count": 243,
      "outputs": [
        {
          "output_type": "execute_result",
          "data": {
            "text/plain": [
              "71"
            ]
          },
          "metadata": {},
          "execution_count": 243
        }
      ]
    },
    {
      "cell_type": "code",
      "source": [
        "min(numbers)"
      ],
      "metadata": {
        "colab": {
          "base_uri": "https://localhost:8080/"
        },
        "id": "BjIkDSfIitEQ",
        "outputId": "83773f0f-57a9-4d06-ebca-99f8e0d773a3"
      },
      "execution_count": 244,
      "outputs": [
        {
          "output_type": "execute_result",
          "data": {
            "text/plain": [
              "1"
            ]
          },
          "metadata": {},
          "execution_count": 244
        }
      ]
    },
    {
      "cell_type": "code",
      "source": [
        "sum(numbers)"
      ],
      "metadata": {
        "colab": {
          "base_uri": "https://localhost:8080/"
        },
        "id": "1MOP4NGDi4X9",
        "outputId": "de003550-4d6f-4d40-ec4e-cc27d187c788"
      },
      "execution_count": 245,
      "outputs": [
        {
          "output_type": "execute_result",
          "data": {
            "text/plain": [
              "87"
            ]
          },
          "metadata": {},
          "execution_count": 245
        }
      ]
    },
    {
      "cell_type": "code",
      "source": [
        "mean(numbers)"
      ],
      "metadata": {
        "colab": {
          "base_uri": "https://localhost:8080/",
          "height": 144
        },
        "id": "kySGZY5Pi-Cd",
        "outputId": "a70f9988-3d10-41b5-e321-d263476959cf"
      },
      "execution_count": 246,
      "outputs": [
        {
          "output_type": "error",
          "ename": "NameError",
          "evalue": "name 'mean' is not defined",
          "traceback": [
            "\u001b[0;31m---------------------------------------------------------------------------\u001b[0m",
            "\u001b[0;31mNameError\u001b[0m                                 Traceback (most recent call last)",
            "\u001b[0;32m/tmp/ipython-input-179992164.py\u001b[0m in \u001b[0;36m<cell line: 0>\u001b[0;34m()\u001b[0m\n\u001b[0;32m----> 1\u001b[0;31m \u001b[0mmean\u001b[0m\u001b[0;34m(\u001b[0m\u001b[0mnumbers\u001b[0m\u001b[0;34m)\u001b[0m\u001b[0;34m\u001b[0m\u001b[0;34m\u001b[0m\u001b[0m\n\u001b[0m",
            "\u001b[0;31mNameError\u001b[0m: name 'mean' is not defined"
          ]
        }
      ]
    },
    {
      "cell_type": "code",
      "source": [
        "### Buit-in functions\n",
        "import math\n",
        "dir(math)"
      ],
      "metadata": {
        "colab": {
          "base_uri": "https://localhost:8080/"
        },
        "id": "1czmM1QRi_uS",
        "outputId": "f51363a3-a5bd-4bbb-8a1b-0baaf5df45c6"
      },
      "execution_count": 247,
      "outputs": [
        {
          "output_type": "execute_result",
          "data": {
            "text/plain": [
              "['__doc__',\n",
              " '__loader__',\n",
              " '__name__',\n",
              " '__package__',\n",
              " '__spec__',\n",
              " 'acos',\n",
              " 'acosh',\n",
              " 'asin',\n",
              " 'asinh',\n",
              " 'atan',\n",
              " 'atan2',\n",
              " 'atanh',\n",
              " 'cbrt',\n",
              " 'ceil',\n",
              " 'comb',\n",
              " 'copysign',\n",
              " 'cos',\n",
              " 'cosh',\n",
              " 'degrees',\n",
              " 'dist',\n",
              " 'e',\n",
              " 'erf',\n",
              " 'erfc',\n",
              " 'exp',\n",
              " 'exp2',\n",
              " 'expm1',\n",
              " 'fabs',\n",
              " 'factorial',\n",
              " 'floor',\n",
              " 'fmod',\n",
              " 'frexp',\n",
              " 'fsum',\n",
              " 'gamma',\n",
              " 'gcd',\n",
              " 'hypot',\n",
              " 'inf',\n",
              " 'isclose',\n",
              " 'isfinite',\n",
              " 'isinf',\n",
              " 'isnan',\n",
              " 'isqrt',\n",
              " 'lcm',\n",
              " 'ldexp',\n",
              " 'lgamma',\n",
              " 'log',\n",
              " 'log10',\n",
              " 'log1p',\n",
              " 'log2',\n",
              " 'modf',\n",
              " 'nan',\n",
              " 'nextafter',\n",
              " 'perm',\n",
              " 'pi',\n",
              " 'pow',\n",
              " 'prod',\n",
              " 'radians',\n",
              " 'remainder',\n",
              " 'sin',\n",
              " 'sinh',\n",
              " 'sqrt',\n",
              " 'sumprod',\n",
              " 'tan',\n",
              " 'tanh',\n",
              " 'tau',\n",
              " 'trunc',\n",
              " 'ulp']"
            ]
          },
          "metadata": {},
          "execution_count": 247
        }
      ]
    },
    {
      "cell_type": "code",
      "source": [
        "math.sqrt(25)"
      ],
      "metadata": {
        "colab": {
          "base_uri": "https://localhost:8080/"
        },
        "id": "wwl8un8DkD4h",
        "outputId": "ab80b74f-5616-4cee-9996-c24890e189d5"
      },
      "execution_count": 248,
      "outputs": [
        {
          "output_type": "execute_result",
          "data": {
            "text/plain": [
              "5.0"
            ]
          },
          "metadata": {},
          "execution_count": 248
        }
      ]
    },
    {
      "cell_type": "code",
      "source": [
        "help(math.sqrt)"
      ],
      "metadata": {
        "colab": {
          "base_uri": "https://localhost:8080/"
        },
        "id": "42dxRgtqkSlX",
        "outputId": "2ac59990-e11e-4c55-8bea-8868c1273e52"
      },
      "execution_count": 249,
      "outputs": [
        {
          "output_type": "stream",
          "name": "stdout",
          "text": [
            "Help on built-in function sqrt in module math:\n",
            "\n",
            "sqrt(x, /)\n",
            "    Return the square root of x.\n",
            "\n"
          ]
        }
      ]
    },
    {
      "cell_type": "code",
      "source": [
        "math.pi"
      ],
      "metadata": {
        "colab": {
          "base_uri": "https://localhost:8080/"
        },
        "id": "Jabz_yDbkWRH",
        "outputId": "03239a96-f33c-4f29-9db7-4b27e37ee893"
      },
      "execution_count": 250,
      "outputs": [
        {
          "output_type": "execute_result",
          "data": {
            "text/plain": [
              "3.141592653589793"
            ]
          },
          "metadata": {},
          "execution_count": 250
        }
      ]
    },
    {
      "cell_type": "code",
      "source": [
        "import statistics\n",
        "dir(statistics)"
      ],
      "metadata": {
        "colab": {
          "base_uri": "https://localhost:8080/"
        },
        "id": "KqY_TmB4kfvK",
        "outputId": "5d142e3f-d7c2-4578-e89d-0adfec18c091"
      },
      "execution_count": 251,
      "outputs": [
        {
          "output_type": "execute_result",
          "data": {
            "text/plain": [
              "['Counter',\n",
              " 'Decimal',\n",
              " 'Fraction',\n",
              " 'LinearRegression',\n",
              " 'NormalDist',\n",
              " 'StatisticsError',\n",
              " '_SQRT2',\n",
              " '__all__',\n",
              " '__annotations__',\n",
              " '__builtins__',\n",
              " '__cached__',\n",
              " '__doc__',\n",
              " '__file__',\n",
              " '__loader__',\n",
              " '__name__',\n",
              " '__package__',\n",
              " '__spec__',\n",
              " '_coerce',\n",
              " '_convert',\n",
              " '_decimal_sqrt_of_frac',\n",
              " '_exact_ratio',\n",
              " '_fail_neg',\n",
              " '_float_sqrt_of_frac',\n",
              " '_integer_sqrt_of_frac_rto',\n",
              " '_isfinite',\n",
              " '_mean_stdev',\n",
              " '_normal_dist_inv_cdf',\n",
              " '_rank',\n",
              " '_sqrt_bit_width',\n",
              " '_ss',\n",
              " '_sum',\n",
              " 'bisect_left',\n",
              " 'bisect_right',\n",
              " 'correlation',\n",
              " 'count',\n",
              " 'covariance',\n",
              " 'defaultdict',\n",
              " 'erf',\n",
              " 'exp',\n",
              " 'fabs',\n",
              " 'fmean',\n",
              " 'fsum',\n",
              " 'geometric_mean',\n",
              " 'groupby',\n",
              " 'harmonic_mean',\n",
              " 'hypot',\n",
              " 'itemgetter',\n",
              " 'linear_regression',\n",
              " 'log',\n",
              " 'math',\n",
              " 'mean',\n",
              " 'median',\n",
              " 'median_grouped',\n",
              " 'median_high',\n",
              " 'median_low',\n",
              " 'mode',\n",
              " 'multimode',\n",
              " 'namedtuple',\n",
              " 'numbers',\n",
              " 'pstdev',\n",
              " 'pvariance',\n",
              " 'quantiles',\n",
              " 'random',\n",
              " 'reduce',\n",
              " 'repeat',\n",
              " 'sqrt',\n",
              " 'stdev',\n",
              " 'sumprod',\n",
              " 'sys',\n",
              " 'tau',\n",
              " 'variance']"
            ]
          },
          "metadata": {},
          "execution_count": 251
        }
      ]
    },
    {
      "cell_type": "code",
      "source": [
        "statistics.mean(numbers)"
      ],
      "metadata": {
        "colab": {
          "base_uri": "https://localhost:8080/"
        },
        "id": "v6TcbCytkpi7",
        "outputId": "29d6abd7-4446-4137-f063-dfab32cf975d"
      },
      "execution_count": 252,
      "outputs": [
        {
          "output_type": "execute_result",
          "data": {
            "text/plain": [
              "17.4"
            ]
          },
          "metadata": {},
          "execution_count": 252
        }
      ]
    },
    {
      "cell_type": "code",
      "source": [
        "statistics.variance(numbers)"
      ],
      "metadata": {
        "colab": {
          "base_uri": "https://localhost:8080/"
        },
        "id": "TNojkTDJk-OZ",
        "outputId": "17cdad9c-4bca-42d6-810a-029692bfe879"
      },
      "execution_count": 253,
      "outputs": [
        {
          "output_type": "execute_result",
          "data": {
            "text/plain": [
              "905.3"
            ]
          },
          "metadata": {},
          "execution_count": 253
        }
      ]
    },
    {
      "cell_type": "code",
      "source": [
        "### UDF(User Defined Function)\n",
        "def greet():\n",
        "  print(\"Hello Premalatha!\")"
      ],
      "metadata": {
        "id": "ZZa3MkZ4lLja"
      },
      "execution_count": 254,
      "outputs": []
    },
    {
      "cell_type": "code",
      "source": [
        "greet()"
      ],
      "metadata": {
        "colab": {
          "base_uri": "https://localhost:8080/"
        },
        "id": "XnNgVfu4lnqc",
        "outputId": "9e946eda-d647-4ec9-e785-7fae5ebbd350"
      },
      "execution_count": 256,
      "outputs": [
        {
          "output_type": "stream",
          "name": "stdout",
          "text": [
            "Hello Premalatha!\n"
          ]
        }
      ]
    },
    {
      "cell_type": "code",
      "source": [
        "7+8"
      ],
      "metadata": {
        "colab": {
          "base_uri": "https://localhost:8080/"
        },
        "id": "RbAhqi02lop0",
        "outputId": "f8de9765-2e6f-4d9b-b4ac-fba482706f05"
      },
      "execution_count": 257,
      "outputs": [
        {
          "output_type": "execute_result",
          "data": {
            "text/plain": [
              "15"
            ]
          },
          "metadata": {},
          "execution_count": 257
        }
      ]
    },
    {
      "cell_type": "code",
      "source": [
        "a=7\n",
        "b=8\n",
        "c=a+b\n",
        "c"
      ],
      "metadata": {
        "colab": {
          "base_uri": "https://localhost:8080/"
        },
        "id": "ZRgTN8J9l1au",
        "outputId": "cbc22838-1f73-4039-ec44-93dd543ef1bd"
      },
      "execution_count": 258,
      "outputs": [
        {
          "output_type": "execute_result",
          "data": {
            "text/plain": [
              "15"
            ]
          },
          "metadata": {},
          "execution_count": 258
        }
      ]
    },
    {
      "cell_type": "code",
      "source": [
        "def add(a,b):\n",
        "  return a+b\n",
        "add(10,5)"
      ],
      "metadata": {
        "colab": {
          "base_uri": "https://localhost:8080/"
        },
        "id": "Y94OZUxxl6yQ",
        "outputId": "a24eb36c-bd0c-4792-9540-811fa9aeeacf"
      },
      "execution_count": 260,
      "outputs": [
        {
          "output_type": "execute_result",
          "data": {
            "text/plain": [
              "15"
            ]
          },
          "metadata": {},
          "execution_count": 260
        }
      ]
    },
    {
      "cell_type": "code",
      "source": [
        "def add(a,b):\n",
        "  print(\"Number 1: \",a)\n",
        "  print(\"Number 2: \",b)\n",
        "  addition=a+b\n",
        "  return addition"
      ],
      "metadata": {
        "id": "obrPeGRVmas1"
      },
      "execution_count": 266,
      "outputs": []
    },
    {
      "cell_type": "code",
      "source": [
        "result=add(5,6)\n",
        "result"
      ],
      "metadata": {
        "colab": {
          "base_uri": "https://localhost:8080/"
        },
        "id": "DML78LAWmx0j",
        "outputId": "3c0dd91e-d780-43b8-d268-72d947fb5ea3"
      },
      "execution_count": 267,
      "outputs": [
        {
          "output_type": "stream",
          "name": "stdout",
          "text": [
            "Number 1:  5\n",
            "Number 2:  6\n"
          ]
        },
        {
          "output_type": "execute_result",
          "data": {
            "text/plain": [
              "11"
            ]
          },
          "metadata": {},
          "execution_count": 267
        }
      ]
    },
    {
      "cell_type": "code",
      "source": [
        "###\n",
        "num=1\n",
        "if num %2==0:\n",
        "  print(\"even\")\n",
        "else:\n",
        "  print(\"odd\")"
      ],
      "metadata": {
        "colab": {
          "base_uri": "https://localhost:8080/"
        },
        "id": "tl9sGydmm8sz",
        "outputId": "d366cce7-e746-4ac3-dd5c-2c2800a2448e"
      },
      "execution_count": 269,
      "outputs": [
        {
          "output_type": "stream",
          "name": "stdout",
          "text": [
            "odd\n"
          ]
        }
      ]
    },
    {
      "cell_type": "code",
      "source": [
        "### Function to check even or odd\n",
        "def even_odd(num):\n",
        "  if num %2==0:\n",
        "    return \"Even\"\n",
        "  else:\n",
        "    return \"Odd\""
      ],
      "metadata": {
        "id": "8zPEh0FgwCfo"
      },
      "execution_count": 270,
      "outputs": []
    },
    {
      "cell_type": "code",
      "source": [
        "even_odd(10)"
      ],
      "metadata": {
        "colab": {
          "base_uri": "https://localhost:8080/",
          "height": 36
        },
        "id": "AsKByplrwc5K",
        "outputId": "45af43c6-9508-407c-be96-5cf03498aa21"
      },
      "execution_count": 272,
      "outputs": [
        {
          "output_type": "execute_result",
          "data": {
            "text/plain": [
              "'Even'"
            ],
            "application/vnd.google.colaboratory.intrinsic+json": {
              "type": "string"
            }
          },
          "metadata": {},
          "execution_count": 272
        }
      ]
    },
    {
      "cell_type": "code",
      "source": [
        "### Greatest of two numbers using function\n",
        "def max_min(a,b):\n",
        "  if(a>b):\n",
        "    return (a, \" is greater\")\n",
        "  elif(b>a):\n",
        "    return (b, \" is greater\")\n",
        "  else:\n",
        "    return(\"both numbers are equal\")"
      ],
      "metadata": {
        "id": "CvrWkI5Lwe79"
      },
      "execution_count": 273,
      "outputs": []
    },
    {
      "cell_type": "code",
      "source": [
        "max_min(3,76)"
      ],
      "metadata": {
        "colab": {
          "base_uri": "https://localhost:8080/"
        },
        "id": "ghro-Z4KxeF-",
        "outputId": "a4e496af-2561-4374-cc0a-1c7d5594f660"
      },
      "execution_count": 274,
      "outputs": [
        {
          "output_type": "execute_result",
          "data": {
            "text/plain": [
              "(76, ' is greater')"
            ]
          },
          "metadata": {},
          "execution_count": 274
        }
      ]
    },
    {
      "cell_type": "code",
      "source": [
        "def largest(a,b):\n",
        "  return max(a,b)"
      ],
      "metadata": {
        "id": "m9Fche1zxisj"
      },
      "execution_count": 275,
      "outputs": []
    },
    {
      "cell_type": "code",
      "source": [
        "largest(11,65)"
      ],
      "metadata": {
        "colab": {
          "base_uri": "https://localhost:8080/"
        },
        "id": "oSR-DN4AyTFq",
        "outputId": "34b5651e-3938-4898-e1db-14726dcf086e"
      },
      "execution_count": 276,
      "outputs": [
        {
          "output_type": "execute_result",
          "data": {
            "text/plain": [
              "65"
            ]
          },
          "metadata": {},
          "execution_count": 276
        }
      ]
    },
    {
      "cell_type": "code",
      "source": [
        "### Function to reverse a string\n",
        "def reverse(s):\n",
        "  return s[::-1]"
      ],
      "metadata": {
        "id": "1oTiPCI4yUxo"
      },
      "execution_count": 277,
      "outputs": []
    },
    {
      "cell_type": "code",
      "source": [
        "reverse(\"Python\")"
      ],
      "metadata": {
        "colab": {
          "base_uri": "https://localhost:8080/",
          "height": 36
        },
        "id": "lw1Ev5AOzBhL",
        "outputId": "c9e77e2e-3341-4e3a-cbae-0555def1c592"
      },
      "execution_count": 278,
      "outputs": [
        {
          "output_type": "execute_result",
          "data": {
            "text/plain": [
              "'nohtyP'"
            ],
            "application/vnd.google.colaboratory.intrinsic+json": {
              "type": "string"
            }
          },
          "metadata": {},
          "execution_count": 278
        }
      ]
    },
    {
      "cell_type": "code",
      "source": [
        "def count_vowels(s):\n",
        "    vowels = \"aeiouAEIOU\"\n",
        "    count = 0\n",
        "    for i in s:\n",
        "        if i in vowels:\n",
        "            count =count+1\n",
        "    return count"
      ],
      "metadata": {
        "id": "7ddizAtrzEUh"
      },
      "execution_count": 279,
      "outputs": []
    },
    {
      "cell_type": "code",
      "source": [
        "count_vowels(\"Premalatha\")"
      ],
      "metadata": {
        "colab": {
          "base_uri": "https://localhost:8080/"
        },
        "id": "xM40Lu581gfE",
        "outputId": "f2c808d7-6840-410e-9170-11760f002871"
      },
      "execution_count": 281,
      "outputs": [
        {
          "output_type": "execute_result",
          "data": {
            "text/plain": [
              "4"
            ]
          },
          "metadata": {},
          "execution_count": 281
        }
      ]
    },
    {
      "cell_type": "code",
      "source": [
        "### built-in ### udf  ### Lambda"
      ],
      "metadata": {
        "id": "bCI4DtBp1lDu"
      },
      "execution_count": null,
      "outputs": []
    },
    {
      "cell_type": "code",
      "source": [
        "### add two numbers\n",
        "add=lambda a,b : a+b"
      ],
      "metadata": {
        "id": "MP2S48Vk2AnS"
      },
      "execution_count": 282,
      "outputs": []
    },
    {
      "cell_type": "code",
      "source": [
        "add(2,3)"
      ],
      "metadata": {
        "colab": {
          "base_uri": "https://localhost:8080/"
        },
        "id": "Fm9jAKSM2YW_",
        "outputId": "6d552a1c-4379-4151-ea11-6cc03bad6d47"
      },
      "execution_count": 283,
      "outputs": [
        {
          "output_type": "execute_result",
          "data": {
            "text/plain": [
              "5"
            ]
          },
          "metadata": {},
          "execution_count": 283
        }
      ]
    },
    {
      "cell_type": "code",
      "source": [
        "### square of a number\n",
        "squ=lambda n: n * n"
      ],
      "metadata": {
        "id": "jjdiesf82bSo"
      },
      "execution_count": 284,
      "outputs": []
    },
    {
      "cell_type": "code",
      "source": [
        "squ(7)"
      ],
      "metadata": {
        "colab": {
          "base_uri": "https://localhost:8080/"
        },
        "id": "q8LsIWn42udf",
        "outputId": "d33c04c7-8d06-47a1-e0f3-65cda01325c6"
      },
      "execution_count": 285,
      "outputs": [
        {
          "output_type": "execute_result",
          "data": {
            "text/plain": [
              "49"
            ]
          },
          "metadata": {},
          "execution_count": 285
        }
      ]
    },
    {
      "cell_type": "code",
      "source": [
        "### even or odd\n",
        "even_odd=lambda n: \"Even\" if n %2==0 else \"odd\""
      ],
      "metadata": {
        "id": "2LvsEvq02v5e"
      },
      "execution_count": 286,
      "outputs": []
    },
    {
      "cell_type": "code",
      "source": [
        "even_odd(9)"
      ],
      "metadata": {
        "colab": {
          "base_uri": "https://localhost:8080/",
          "height": 36
        },
        "id": "WA8FBpNw2_45",
        "outputId": "1f57da27-57df-417b-8194-8f31bd6b72f2"
      },
      "execution_count": 287,
      "outputs": [
        {
          "output_type": "execute_result",
          "data": {
            "text/plain": [
              "'odd'"
            ],
            "application/vnd.google.colaboratory.intrinsic+json": {
              "type": "string"
            }
          },
          "metadata": {},
          "execution_count": 287
        }
      ]
    },
    {
      "cell_type": "code",
      "source": [
        "### max of three numbers using lambda\n",
        "### reverse a string"
      ],
      "metadata": {
        "id": "PypIRwO_3Brt"
      },
      "execution_count": null,
      "outputs": []
    },
    {
      "cell_type": "code",
      "source": [
        "rev=lambda a:a[::-1]"
      ],
      "metadata": {
        "id": "XhbveBri4xVv"
      },
      "execution_count": 288,
      "outputs": []
    },
    {
      "cell_type": "code",
      "source": [
        "rev(\"Python\")"
      ],
      "metadata": {
        "colab": {
          "base_uri": "https://localhost:8080/",
          "height": 36
        },
        "id": "QHMyPExg4yn6",
        "outputId": "0e5c2aec-ff97-4c0e-c8bb-2166ebeb8adc"
      },
      "execution_count": 289,
      "outputs": [
        {
          "output_type": "execute_result",
          "data": {
            "text/plain": [
              "'nohtyP'"
            ],
            "application/vnd.google.colaboratory.intrinsic+json": {
              "type": "string"
            }
          },
          "metadata": {},
          "execution_count": 289
        }
      ]
    },
    {
      "cell_type": "code",
      "source": [
        "list1=[10,8,4,32,31,76,87]\n",
        "list(filter(lambda x: x%2==0,list1))"
      ],
      "metadata": {
        "colab": {
          "base_uri": "https://localhost:8080/"
        },
        "id": "JigdYL5S40QI",
        "outputId": "770bd541-72e8-4269-9bcb-4f2e3156153b"
      },
      "execution_count": 290,
      "outputs": [
        {
          "output_type": "execute_result",
          "data": {
            "text/plain": [
              "[10, 8, 4, 32, 76]"
            ]
          },
          "metadata": {},
          "execution_count": 290
        }
      ]
    },
    {
      "cell_type": "code",
      "source": [
        "list(map(lambda x:x**2,list1))"
      ],
      "metadata": {
        "colab": {
          "base_uri": "https://localhost:8080/"
        },
        "id": "BfhXQc6J5MYq",
        "outputId": "96402092-0674-46ab-cc40-50f18dcc046f"
      },
      "execution_count": 291,
      "outputs": [
        {
          "output_type": "execute_result",
          "data": {
            "text/plain": [
              "[100, 64, 16, 1024, 961, 5776, 7569]"
            ]
          },
          "metadata": {},
          "execution_count": 291
        }
      ]
    },
    {
      "cell_type": "code",
      "source": [
        "from functools import reduce"
      ],
      "metadata": {
        "id": "XmCrGtHx6uYo"
      },
      "execution_count": 293,
      "outputs": []
    },
    {
      "cell_type": "code",
      "source": [
        "list2=[1,2,3,4,5]\n",
        "reduce(lambda a,b:a*b,list2)"
      ],
      "metadata": {
        "colab": {
          "base_uri": "https://localhost:8080/"
        },
        "id": "hVi8imv55jXH",
        "outputId": "3f813aef-e571-44d3-80e9-3c5dcbfd6b72"
      },
      "execution_count": 294,
      "outputs": [
        {
          "output_type": "execute_result",
          "data": {
            "text/plain": [
              "120"
            ]
          },
          "metadata": {},
          "execution_count": 294
        }
      ]
    },
    {
      "cell_type": "code",
      "source": [],
      "metadata": {
        "id": "NUfj-dn_6b-x"
      },
      "execution_count": null,
      "outputs": []
    }
  ]
}